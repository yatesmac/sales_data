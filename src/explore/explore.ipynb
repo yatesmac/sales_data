{
 "cells": [
  {
   "cell_type": "markdown",
   "metadata": {},
   "source": [
    "# Data Exploration"
   ]
  },
  {
   "cell_type": "markdown",
   "metadata": {},
   "source": [
    "## Information about the Dataset"
   ]
  },
  {
   "cell_type": "code",
   "execution_count": null,
   "metadata": {},
   "outputs": [],
   "source": [
    "import numpy as np\n",
    "import pandas as pd"
   ]
  },
  {
   "cell_type": "code",
   "execution_count": 2,
   "metadata": {},
   "outputs": [],
   "source": [
    "# categories = cities = countries = customers = employees = products = sales = None"
   ]
  },
  {
   "cell_type": "code",
   "execution_count": 3,
   "metadata": {},
   "outputs": [],
   "source": [
    "tables = [\n",
    "    \"categories\",\n",
    "    \"cities\",\n",
    "    \"countries\",\n",
    "    \"customers\",\n",
    "    \"employees\",\n",
    "    \"products\",\n",
    "    \"sales\",\n",
    "]"
   ]
  },
  {
   "cell_type": "code",
   "execution_count": 4,
   "metadata": {},
   "outputs": [],
   "source": [
    "# Load the Data\n",
    "for table in tables:\n",
    "    data = f'../../data/raw/{table}.csv'\n",
    "    globals()[table] = pd.read_csv(data)"
   ]
  },
  {
   "cell_type": "code",
   "execution_count": 5,
   "metadata": {},
   "outputs": [],
   "source": [
    "tables = {\n",
    "    \"categories\": categories,    \n",
    "    \"cities\": cities,\n",
    "    \"countries\": countries,\n",
    "    \"customers\": customers,\n",
    "    \"employees\": employees,\n",
    "    \"products\": products,\n",
    "    \"sales\": sales\n",
    "}"
   ]
  },
  {
   "cell_type": "code",
   "execution_count": 17,
   "metadata": {},
   "outputs": [
    {
     "data": {
      "application/vnd.microsoft.datawrangler.viewer.v0+json": {
       "columns": [
        {
         "name": "index",
         "rawType": "int64",
         "type": "integer"
        },
        {
         "name": "CategoryID",
         "rawType": "int64",
         "type": "integer"
        },
        {
         "name": "CategoryName",
         "rawType": "object",
         "type": "string"
        }
       ],
       "conversionMethod": "pd.DataFrame",
       "ref": "5c58c0e6-60ab-4df1-8e6a-efd2de6d801a",
       "rows": [
        [
         "0",
         "1",
         "Confections"
        ],
        [
         "1",
         "2",
         "Shell fish"
        ],
        [
         "2",
         "3",
         "Cereals"
        ],
        [
         "3",
         "4",
         "Dairy"
        ],
        [
         "4",
         "5",
         "Beverages"
        ]
       ],
       "shape": {
        "columns": 2,
        "rows": 5
       }
      },
      "text/html": [
       "<div>\n",
       "<style scoped>\n",
       "    .dataframe tbody tr th:only-of-type {\n",
       "        vertical-align: middle;\n",
       "    }\n",
       "\n",
       "    .dataframe tbody tr th {\n",
       "        vertical-align: top;\n",
       "    }\n",
       "\n",
       "    .dataframe thead th {\n",
       "        text-align: right;\n",
       "    }\n",
       "</style>\n",
       "<table border=\"1\" class=\"dataframe\">\n",
       "  <thead>\n",
       "    <tr style=\"text-align: right;\">\n",
       "      <th></th>\n",
       "      <th>CategoryID</th>\n",
       "      <th>CategoryName</th>\n",
       "    </tr>\n",
       "  </thead>\n",
       "  <tbody>\n",
       "    <tr>\n",
       "      <th>0</th>\n",
       "      <td>1</td>\n",
       "      <td>Confections</td>\n",
       "    </tr>\n",
       "    <tr>\n",
       "      <th>1</th>\n",
       "      <td>2</td>\n",
       "      <td>Shell fish</td>\n",
       "    </tr>\n",
       "    <tr>\n",
       "      <th>2</th>\n",
       "      <td>3</td>\n",
       "      <td>Cereals</td>\n",
       "    </tr>\n",
       "    <tr>\n",
       "      <th>3</th>\n",
       "      <td>4</td>\n",
       "      <td>Dairy</td>\n",
       "    </tr>\n",
       "    <tr>\n",
       "      <th>4</th>\n",
       "      <td>5</td>\n",
       "      <td>Beverages</td>\n",
       "    </tr>\n",
       "  </tbody>\n",
       "</table>\n",
       "</div>"
      ],
      "text/plain": [
       "   CategoryID CategoryName\n",
       "0           1  Confections\n",
       "1           2   Shell fish\n",
       "2           3      Cereals\n",
       "3           4        Dairy\n",
       "4           5    Beverages"
      ]
     },
     "execution_count": 17,
     "metadata": {},
     "output_type": "execute_result"
    }
   ],
   "source": [
    "categories.head()"
   ]
  },
  {
   "cell_type": "code",
   "execution_count": 18,
   "metadata": {},
   "outputs": [
    {
     "data": {
      "application/vnd.microsoft.datawrangler.viewer.v0+json": {
       "columns": [
        {
         "name": "index",
         "rawType": "int64",
         "type": "integer"
        },
        {
         "name": "CityID",
         "rawType": "int64",
         "type": "integer"
        },
        {
         "name": "CityName",
         "rawType": "object",
         "type": "string"
        },
        {
         "name": "Zipcode",
         "rawType": "int64",
         "type": "integer"
        },
        {
         "name": "CountryID",
         "rawType": "int64",
         "type": "integer"
        }
       ],
       "conversionMethod": "pd.DataFrame",
       "ref": "3f1b5ddf-5880-4229-a583-4fefe8ee3685",
       "rows": [
        [
         "0",
         "1",
         "Dayton",
         "80563",
         "32"
        ],
        [
         "1",
         "2",
         "Buffalo",
         "17420",
         "32"
        ],
        [
         "2",
         "3",
         "Chicago",
         "44751",
         "32"
        ],
        [
         "3",
         "4",
         "Fremont",
         "20641",
         "32"
        ],
        [
         "4",
         "5",
         "Virginia Beach",
         "62389",
         "32"
        ]
       ],
       "shape": {
        "columns": 4,
        "rows": 5
       }
      },
      "text/html": [
       "<div>\n",
       "<style scoped>\n",
       "    .dataframe tbody tr th:only-of-type {\n",
       "        vertical-align: middle;\n",
       "    }\n",
       "\n",
       "    .dataframe tbody tr th {\n",
       "        vertical-align: top;\n",
       "    }\n",
       "\n",
       "    .dataframe thead th {\n",
       "        text-align: right;\n",
       "    }\n",
       "</style>\n",
       "<table border=\"1\" class=\"dataframe\">\n",
       "  <thead>\n",
       "    <tr style=\"text-align: right;\">\n",
       "      <th></th>\n",
       "      <th>CityID</th>\n",
       "      <th>CityName</th>\n",
       "      <th>Zipcode</th>\n",
       "      <th>CountryID</th>\n",
       "    </tr>\n",
       "  </thead>\n",
       "  <tbody>\n",
       "    <tr>\n",
       "      <th>0</th>\n",
       "      <td>1</td>\n",
       "      <td>Dayton</td>\n",
       "      <td>80563</td>\n",
       "      <td>32</td>\n",
       "    </tr>\n",
       "    <tr>\n",
       "      <th>1</th>\n",
       "      <td>2</td>\n",
       "      <td>Buffalo</td>\n",
       "      <td>17420</td>\n",
       "      <td>32</td>\n",
       "    </tr>\n",
       "    <tr>\n",
       "      <th>2</th>\n",
       "      <td>3</td>\n",
       "      <td>Chicago</td>\n",
       "      <td>44751</td>\n",
       "      <td>32</td>\n",
       "    </tr>\n",
       "    <tr>\n",
       "      <th>3</th>\n",
       "      <td>4</td>\n",
       "      <td>Fremont</td>\n",
       "      <td>20641</td>\n",
       "      <td>32</td>\n",
       "    </tr>\n",
       "    <tr>\n",
       "      <th>4</th>\n",
       "      <td>5</td>\n",
       "      <td>Virginia Beach</td>\n",
       "      <td>62389</td>\n",
       "      <td>32</td>\n",
       "    </tr>\n",
       "  </tbody>\n",
       "</table>\n",
       "</div>"
      ],
      "text/plain": [
       "   CityID        CityName  Zipcode  CountryID\n",
       "0       1          Dayton    80563         32\n",
       "1       2         Buffalo    17420         32\n",
       "2       3         Chicago    44751         32\n",
       "3       4         Fremont    20641         32\n",
       "4       5  Virginia Beach    62389         32"
      ]
     },
     "execution_count": 18,
     "metadata": {},
     "output_type": "execute_result"
    }
   ],
   "source": [
    "cities.head()"
   ]
  },
  {
   "cell_type": "code",
   "execution_count": 8,
   "metadata": {},
   "outputs": [
    {
     "data": {
      "application/vnd.microsoft.datawrangler.viewer.v0+json": {
       "columns": [
        {
         "name": "index",
         "rawType": "int64",
         "type": "integer"
        },
        {
         "name": "CountryID",
         "rawType": "int64",
         "type": "integer"
        },
        {
         "name": "CountryName",
         "rawType": "object",
         "type": "string"
        },
        {
         "name": "CountryCode",
         "rawType": "object",
         "type": "string"
        }
       ],
       "conversionMethod": "pd.DataFrame",
       "ref": "3c5c9738-45d1-4761-bdc1-f5878b08acf5",
       "rows": [
        [
         "0",
         "1",
         "Armenia",
         "AN"
        ],
        [
         "1",
         "2",
         "Canada",
         "FO"
        ],
        [
         "2",
         "3",
         "Belize",
         "MK"
        ],
        [
         "3",
         "4",
         "Uganda",
         "LV"
        ],
        [
         "4",
         "5",
         "Thailand",
         "VI"
        ]
       ],
       "shape": {
        "columns": 3,
        "rows": 5
       }
      },
      "text/html": [
       "<div>\n",
       "<style scoped>\n",
       "    .dataframe tbody tr th:only-of-type {\n",
       "        vertical-align: middle;\n",
       "    }\n",
       "\n",
       "    .dataframe tbody tr th {\n",
       "        vertical-align: top;\n",
       "    }\n",
       "\n",
       "    .dataframe thead th {\n",
       "        text-align: right;\n",
       "    }\n",
       "</style>\n",
       "<table border=\"1\" class=\"dataframe\">\n",
       "  <thead>\n",
       "    <tr style=\"text-align: right;\">\n",
       "      <th></th>\n",
       "      <th>CountryID</th>\n",
       "      <th>CountryName</th>\n",
       "      <th>CountryCode</th>\n",
       "    </tr>\n",
       "  </thead>\n",
       "  <tbody>\n",
       "    <tr>\n",
       "      <th>0</th>\n",
       "      <td>1</td>\n",
       "      <td>Armenia</td>\n",
       "      <td>AN</td>\n",
       "    </tr>\n",
       "    <tr>\n",
       "      <th>1</th>\n",
       "      <td>2</td>\n",
       "      <td>Canada</td>\n",
       "      <td>FO</td>\n",
       "    </tr>\n",
       "    <tr>\n",
       "      <th>2</th>\n",
       "      <td>3</td>\n",
       "      <td>Belize</td>\n",
       "      <td>MK</td>\n",
       "    </tr>\n",
       "    <tr>\n",
       "      <th>3</th>\n",
       "      <td>4</td>\n",
       "      <td>Uganda</td>\n",
       "      <td>LV</td>\n",
       "    </tr>\n",
       "    <tr>\n",
       "      <th>4</th>\n",
       "      <td>5</td>\n",
       "      <td>Thailand</td>\n",
       "      <td>VI</td>\n",
       "    </tr>\n",
       "  </tbody>\n",
       "</table>\n",
       "</div>"
      ],
      "text/plain": [
       "   CountryID CountryName CountryCode\n",
       "0          1     Armenia          AN\n",
       "1          2      Canada          FO\n",
       "2          3      Belize          MK\n",
       "3          4      Uganda          LV\n",
       "4          5    Thailand          VI"
      ]
     },
     "execution_count": 8,
     "metadata": {},
     "output_type": "execute_result"
    }
   ],
   "source": [
    "countries.head()"
   ]
  },
  {
   "cell_type": "code",
   "execution_count": 9,
   "metadata": {},
   "outputs": [
    {
     "data": {
      "application/vnd.microsoft.datawrangler.viewer.v0+json": {
       "columns": [
        {
         "name": "index",
         "rawType": "int64",
         "type": "integer"
        },
        {
         "name": "CustomerID",
         "rawType": "int64",
         "type": "integer"
        },
        {
         "name": "FirstName",
         "rawType": "object",
         "type": "string"
        },
        {
         "name": "MiddleInitial",
         "rawType": "object",
         "type": "string"
        },
        {
         "name": "LastName",
         "rawType": "object",
         "type": "string"
        },
        {
         "name": "CityID",
         "rawType": "int64",
         "type": "integer"
        },
        {
         "name": "Address",
         "rawType": "object",
         "type": "string"
        }
       ],
       "conversionMethod": "pd.DataFrame",
       "ref": "29e657e1-6712-46de-a729-61af25b1d05d",
       "rows": [
        [
         "0",
         "1",
         "Stefanie",
         "Y",
         "Frye",
         "79",
         "97 Oak Avenue"
        ],
        [
         "1",
         "2",
         "Sandy",
         "T",
         "Kirby",
         "96",
         "52 White First Freeway"
        ],
        [
         "2",
         "3",
         "Lee",
         "T",
         "Zhang",
         "55",
         "921 White Fabien Avenue"
        ],
        [
         "3",
         "4",
         "Regina",
         "S",
         "Avery",
         "40",
         "75 Old Avenue"
        ],
        [
         "4",
         "5",
         "Daniel",
         "S",
         "Mccann",
         "2",
         "283 South Green Hague Avenue"
        ]
       ],
       "shape": {
        "columns": 6,
        "rows": 5
       }
      },
      "text/html": [
       "<div>\n",
       "<style scoped>\n",
       "    .dataframe tbody tr th:only-of-type {\n",
       "        vertical-align: middle;\n",
       "    }\n",
       "\n",
       "    .dataframe tbody tr th {\n",
       "        vertical-align: top;\n",
       "    }\n",
       "\n",
       "    .dataframe thead th {\n",
       "        text-align: right;\n",
       "    }\n",
       "</style>\n",
       "<table border=\"1\" class=\"dataframe\">\n",
       "  <thead>\n",
       "    <tr style=\"text-align: right;\">\n",
       "      <th></th>\n",
       "      <th>CustomerID</th>\n",
       "      <th>FirstName</th>\n",
       "      <th>MiddleInitial</th>\n",
       "      <th>LastName</th>\n",
       "      <th>CityID</th>\n",
       "      <th>Address</th>\n",
       "    </tr>\n",
       "  </thead>\n",
       "  <tbody>\n",
       "    <tr>\n",
       "      <th>0</th>\n",
       "      <td>1</td>\n",
       "      <td>Stefanie</td>\n",
       "      <td>Y</td>\n",
       "      <td>Frye</td>\n",
       "      <td>79</td>\n",
       "      <td>97 Oak Avenue</td>\n",
       "    </tr>\n",
       "    <tr>\n",
       "      <th>1</th>\n",
       "      <td>2</td>\n",
       "      <td>Sandy</td>\n",
       "      <td>T</td>\n",
       "      <td>Kirby</td>\n",
       "      <td>96</td>\n",
       "      <td>52 White First Freeway</td>\n",
       "    </tr>\n",
       "    <tr>\n",
       "      <th>2</th>\n",
       "      <td>3</td>\n",
       "      <td>Lee</td>\n",
       "      <td>T</td>\n",
       "      <td>Zhang</td>\n",
       "      <td>55</td>\n",
       "      <td>921 White Fabien Avenue</td>\n",
       "    </tr>\n",
       "    <tr>\n",
       "      <th>3</th>\n",
       "      <td>4</td>\n",
       "      <td>Regina</td>\n",
       "      <td>S</td>\n",
       "      <td>Avery</td>\n",
       "      <td>40</td>\n",
       "      <td>75 Old Avenue</td>\n",
       "    </tr>\n",
       "    <tr>\n",
       "      <th>4</th>\n",
       "      <td>5</td>\n",
       "      <td>Daniel</td>\n",
       "      <td>S</td>\n",
       "      <td>Mccann</td>\n",
       "      <td>2</td>\n",
       "      <td>283 South Green Hague Avenue</td>\n",
       "    </tr>\n",
       "  </tbody>\n",
       "</table>\n",
       "</div>"
      ],
      "text/plain": [
       "   CustomerID FirstName MiddleInitial LastName  CityID  \\\n",
       "0           1  Stefanie             Y     Frye      79   \n",
       "1           2     Sandy             T    Kirby      96   \n",
       "2           3       Lee             T    Zhang      55   \n",
       "3           4    Regina             S    Avery      40   \n",
       "4           5    Daniel             S   Mccann       2   \n",
       "\n",
       "                        Address  \n",
       "0                 97 Oak Avenue  \n",
       "1        52 White First Freeway  \n",
       "2       921 White Fabien Avenue  \n",
       "3                 75 Old Avenue  \n",
       "4  283 South Green Hague Avenue  "
      ]
     },
     "execution_count": 9,
     "metadata": {},
     "output_type": "execute_result"
    }
   ],
   "source": [
    "customers.head()"
   ]
  },
  {
   "cell_type": "code",
   "execution_count": 10,
   "metadata": {},
   "outputs": [
    {
     "data": {
      "application/vnd.microsoft.datawrangler.viewer.v0+json": {
       "columns": [
        {
         "name": "index",
         "rawType": "int64",
         "type": "integer"
        },
        {
         "name": "EmployeeID",
         "rawType": "int64",
         "type": "integer"
        },
        {
         "name": "FirstName",
         "rawType": "object",
         "type": "string"
        },
        {
         "name": "MiddleInitial",
         "rawType": "object",
         "type": "string"
        },
        {
         "name": "LastName",
         "rawType": "object",
         "type": "string"
        },
        {
         "name": "BirthDate",
         "rawType": "object",
         "type": "string"
        },
        {
         "name": "Gender",
         "rawType": "object",
         "type": "string"
        },
        {
         "name": "CityID",
         "rawType": "int64",
         "type": "integer"
        },
        {
         "name": "HireDate",
         "rawType": "object",
         "type": "string"
        }
       ],
       "conversionMethod": "pd.DataFrame",
       "ref": "7cfa4ab4-f458-4e71-b46d-93e10b6c1aa3",
       "rows": [
        [
         "0",
         "1",
         "Nicole",
         "T",
         "Fuller",
         "1981-03-07 00:00:00.000",
         "F",
         "80",
         "2011-06-20 07:15:36.920"
        ],
        [
         "1",
         "2",
         "Christine",
         "W",
         "Palmer",
         "1968-01-25 00:00:00.000",
         "F",
         "4",
         "2011-04-27 04:07:56.930"
        ],
        [
         "2",
         "3",
         "Pablo",
         "Y",
         "Cline",
         "1963-02-09 00:00:00.000",
         "M",
         "70",
         "2012-03-30 18:55:23.270"
        ],
        [
         "3",
         "4",
         "Darnell",
         "O",
         "Nielsen",
         "1989-02-06 00:00:00.000",
         "M",
         "39",
         "2014-03-06 06:55:02.780"
        ],
        [
         "4",
         "5",
         "Desiree",
         "L",
         "Stuart",
         "1963-05-03 00:00:00.000",
         "F",
         "23",
         "2014-11-16 22:59:54.720"
        ]
       ],
       "shape": {
        "columns": 8,
        "rows": 5
       }
      },
      "text/html": [
       "<div>\n",
       "<style scoped>\n",
       "    .dataframe tbody tr th:only-of-type {\n",
       "        vertical-align: middle;\n",
       "    }\n",
       "\n",
       "    .dataframe tbody tr th {\n",
       "        vertical-align: top;\n",
       "    }\n",
       "\n",
       "    .dataframe thead th {\n",
       "        text-align: right;\n",
       "    }\n",
       "</style>\n",
       "<table border=\"1\" class=\"dataframe\">\n",
       "  <thead>\n",
       "    <tr style=\"text-align: right;\">\n",
       "      <th></th>\n",
       "      <th>EmployeeID</th>\n",
       "      <th>FirstName</th>\n",
       "      <th>MiddleInitial</th>\n",
       "      <th>LastName</th>\n",
       "      <th>BirthDate</th>\n",
       "      <th>Gender</th>\n",
       "      <th>CityID</th>\n",
       "      <th>HireDate</th>\n",
       "    </tr>\n",
       "  </thead>\n",
       "  <tbody>\n",
       "    <tr>\n",
       "      <th>0</th>\n",
       "      <td>1</td>\n",
       "      <td>Nicole</td>\n",
       "      <td>T</td>\n",
       "      <td>Fuller</td>\n",
       "      <td>1981-03-07 00:00:00.000</td>\n",
       "      <td>F</td>\n",
       "      <td>80</td>\n",
       "      <td>2011-06-20 07:15:36.920</td>\n",
       "    </tr>\n",
       "    <tr>\n",
       "      <th>1</th>\n",
       "      <td>2</td>\n",
       "      <td>Christine</td>\n",
       "      <td>W</td>\n",
       "      <td>Palmer</td>\n",
       "      <td>1968-01-25 00:00:00.000</td>\n",
       "      <td>F</td>\n",
       "      <td>4</td>\n",
       "      <td>2011-04-27 04:07:56.930</td>\n",
       "    </tr>\n",
       "    <tr>\n",
       "      <th>2</th>\n",
       "      <td>3</td>\n",
       "      <td>Pablo</td>\n",
       "      <td>Y</td>\n",
       "      <td>Cline</td>\n",
       "      <td>1963-02-09 00:00:00.000</td>\n",
       "      <td>M</td>\n",
       "      <td>70</td>\n",
       "      <td>2012-03-30 18:55:23.270</td>\n",
       "    </tr>\n",
       "    <tr>\n",
       "      <th>3</th>\n",
       "      <td>4</td>\n",
       "      <td>Darnell</td>\n",
       "      <td>O</td>\n",
       "      <td>Nielsen</td>\n",
       "      <td>1989-02-06 00:00:00.000</td>\n",
       "      <td>M</td>\n",
       "      <td>39</td>\n",
       "      <td>2014-03-06 06:55:02.780</td>\n",
       "    </tr>\n",
       "    <tr>\n",
       "      <th>4</th>\n",
       "      <td>5</td>\n",
       "      <td>Desiree</td>\n",
       "      <td>L</td>\n",
       "      <td>Stuart</td>\n",
       "      <td>1963-05-03 00:00:00.000</td>\n",
       "      <td>F</td>\n",
       "      <td>23</td>\n",
       "      <td>2014-11-16 22:59:54.720</td>\n",
       "    </tr>\n",
       "  </tbody>\n",
       "</table>\n",
       "</div>"
      ],
      "text/plain": [
       "   EmployeeID  FirstName MiddleInitial LastName                BirthDate  \\\n",
       "0           1     Nicole             T   Fuller  1981-03-07 00:00:00.000   \n",
       "1           2  Christine             W   Palmer  1968-01-25 00:00:00.000   \n",
       "2           3      Pablo             Y    Cline  1963-02-09 00:00:00.000   \n",
       "3           4    Darnell             O  Nielsen  1989-02-06 00:00:00.000   \n",
       "4           5    Desiree             L   Stuart  1963-05-03 00:00:00.000   \n",
       "\n",
       "  Gender  CityID                 HireDate  \n",
       "0      F      80  2011-06-20 07:15:36.920  \n",
       "1      F       4  2011-04-27 04:07:56.930  \n",
       "2      M      70  2012-03-30 18:55:23.270  \n",
       "3      M      39  2014-03-06 06:55:02.780  \n",
       "4      F      23  2014-11-16 22:59:54.720  "
      ]
     },
     "execution_count": 10,
     "metadata": {},
     "output_type": "execute_result"
    }
   ],
   "source": [
    "employees.head()"
   ]
  },
  {
   "cell_type": "code",
   "execution_count": 11,
   "metadata": {},
   "outputs": [
    {
     "data": {
      "application/vnd.microsoft.datawrangler.viewer.v0+json": {
       "columns": [
        {
         "name": "index",
         "rawType": "int64",
         "type": "integer"
        },
        {
         "name": "ProductID",
         "rawType": "int64",
         "type": "integer"
        },
        {
         "name": "ProductName",
         "rawType": "object",
         "type": "string"
        },
        {
         "name": "Price",
         "rawType": "float64",
         "type": "float"
        },
        {
         "name": "CategoryID",
         "rawType": "int64",
         "type": "integer"
        },
        {
         "name": "Class",
         "rawType": "object",
         "type": "string"
        },
        {
         "name": "ModifyDate",
         "rawType": "object",
         "type": "string"
        },
        {
         "name": "Resistant",
         "rawType": "object",
         "type": "string"
        },
        {
         "name": "IsAllergic",
         "rawType": "object",
         "type": "string"
        },
        {
         "name": "VitalityDays",
         "rawType": "float64",
         "type": "float"
        }
       ],
       "conversionMethod": "pd.DataFrame",
       "ref": "3b7e1c88-7177-4420-a38b-e7d1be5fabf9",
       "rows": [
        [
         "0",
         "1",
         "Flour - Whole Wheat",
         "74.2988",
         "3",
         "Medium",
         "2018-02-16 08:21:49.190",
         "Durable",
         "Unknown",
         "0.0"
        ],
        [
         "1",
         "2",
         "Cookie Chocolate Chip With",
         "91.2329",
         "3",
         "Medium",
         "2017-02-12 11:39:10.970",
         "Unknown",
         "Unknown",
         "0.0"
        ],
        [
         "2",
         "3",
         "Onions - Cippolini",
         "9.1379",
         "9",
         "Medium",
         "2018-03-15 08:11:51.560",
         "Weak",
         "False",
         "111.0"
        ],
        [
         "3",
         "4",
         "Sauce - Gravy, Au Jus, Mix",
         "54.3055",
         "9",
         "Medium",
         "2017-07-16 00:46:28.880",
         "Durable",
         "Unknown",
         "0.0"
        ],
        [
         "4",
         "5",
         "Artichokes - Jerusalem",
         "65.4771",
         "2",
         "Low",
         "2017-08-16 14:13:35.430",
         "Durable",
         "True",
         "27.0"
        ]
       ],
       "shape": {
        "columns": 9,
        "rows": 5
       }
      },
      "text/html": [
       "<div>\n",
       "<style scoped>\n",
       "    .dataframe tbody tr th:only-of-type {\n",
       "        vertical-align: middle;\n",
       "    }\n",
       "\n",
       "    .dataframe tbody tr th {\n",
       "        vertical-align: top;\n",
       "    }\n",
       "\n",
       "    .dataframe thead th {\n",
       "        text-align: right;\n",
       "    }\n",
       "</style>\n",
       "<table border=\"1\" class=\"dataframe\">\n",
       "  <thead>\n",
       "    <tr style=\"text-align: right;\">\n",
       "      <th></th>\n",
       "      <th>ProductID</th>\n",
       "      <th>ProductName</th>\n",
       "      <th>Price</th>\n",
       "      <th>CategoryID</th>\n",
       "      <th>Class</th>\n",
       "      <th>ModifyDate</th>\n",
       "      <th>Resistant</th>\n",
       "      <th>IsAllergic</th>\n",
       "      <th>VitalityDays</th>\n",
       "    </tr>\n",
       "  </thead>\n",
       "  <tbody>\n",
       "    <tr>\n",
       "      <th>0</th>\n",
       "      <td>1</td>\n",
       "      <td>Flour - Whole Wheat</td>\n",
       "      <td>74.2988</td>\n",
       "      <td>3</td>\n",
       "      <td>Medium</td>\n",
       "      <td>2018-02-16 08:21:49.190</td>\n",
       "      <td>Durable</td>\n",
       "      <td>Unknown</td>\n",
       "      <td>0.0</td>\n",
       "    </tr>\n",
       "    <tr>\n",
       "      <th>1</th>\n",
       "      <td>2</td>\n",
       "      <td>Cookie Chocolate Chip With</td>\n",
       "      <td>91.2329</td>\n",
       "      <td>3</td>\n",
       "      <td>Medium</td>\n",
       "      <td>2017-02-12 11:39:10.970</td>\n",
       "      <td>Unknown</td>\n",
       "      <td>Unknown</td>\n",
       "      <td>0.0</td>\n",
       "    </tr>\n",
       "    <tr>\n",
       "      <th>2</th>\n",
       "      <td>3</td>\n",
       "      <td>Onions - Cippolini</td>\n",
       "      <td>9.1379</td>\n",
       "      <td>9</td>\n",
       "      <td>Medium</td>\n",
       "      <td>2018-03-15 08:11:51.560</td>\n",
       "      <td>Weak</td>\n",
       "      <td>False</td>\n",
       "      <td>111.0</td>\n",
       "    </tr>\n",
       "    <tr>\n",
       "      <th>3</th>\n",
       "      <td>4</td>\n",
       "      <td>Sauce - Gravy, Au Jus, Mix</td>\n",
       "      <td>54.3055</td>\n",
       "      <td>9</td>\n",
       "      <td>Medium</td>\n",
       "      <td>2017-07-16 00:46:28.880</td>\n",
       "      <td>Durable</td>\n",
       "      <td>Unknown</td>\n",
       "      <td>0.0</td>\n",
       "    </tr>\n",
       "    <tr>\n",
       "      <th>4</th>\n",
       "      <td>5</td>\n",
       "      <td>Artichokes - Jerusalem</td>\n",
       "      <td>65.4771</td>\n",
       "      <td>2</td>\n",
       "      <td>Low</td>\n",
       "      <td>2017-08-16 14:13:35.430</td>\n",
       "      <td>Durable</td>\n",
       "      <td>True</td>\n",
       "      <td>27.0</td>\n",
       "    </tr>\n",
       "  </tbody>\n",
       "</table>\n",
       "</div>"
      ],
      "text/plain": [
       "   ProductID                 ProductName    Price  CategoryID   Class  \\\n",
       "0          1         Flour - Whole Wheat  74.2988           3  Medium   \n",
       "1          2  Cookie Chocolate Chip With  91.2329           3  Medium   \n",
       "2          3          Onions - Cippolini   9.1379           9  Medium   \n",
       "3          4  Sauce - Gravy, Au Jus, Mix  54.3055           9  Medium   \n",
       "4          5      Artichokes - Jerusalem  65.4771           2     Low   \n",
       "\n",
       "                ModifyDate Resistant IsAllergic  VitalityDays  \n",
       "0  2018-02-16 08:21:49.190   Durable    Unknown           0.0  \n",
       "1  2017-02-12 11:39:10.970   Unknown    Unknown           0.0  \n",
       "2  2018-03-15 08:11:51.560      Weak      False         111.0  \n",
       "3  2017-07-16 00:46:28.880   Durable    Unknown           0.0  \n",
       "4  2017-08-16 14:13:35.430   Durable       True          27.0  "
      ]
     },
     "execution_count": 11,
     "metadata": {},
     "output_type": "execute_result"
    }
   ],
   "source": [
    "products.head()"
   ]
  },
  {
   "cell_type": "code",
   "execution_count": 12,
   "metadata": {},
   "outputs": [
    {
     "data": {
      "application/vnd.microsoft.datawrangler.viewer.v0+json": {
       "columns": [
        {
         "name": "index",
         "rawType": "int64",
         "type": "integer"
        },
        {
         "name": "SalesID",
         "rawType": "int64",
         "type": "integer"
        },
        {
         "name": "SalesPersonID",
         "rawType": "int64",
         "type": "integer"
        },
        {
         "name": "CustomerID",
         "rawType": "int64",
         "type": "integer"
        },
        {
         "name": "ProductID",
         "rawType": "int64",
         "type": "integer"
        },
        {
         "name": "Quantity",
         "rawType": "int64",
         "type": "integer"
        },
        {
         "name": "Discount",
         "rawType": "float64",
         "type": "float"
        },
        {
         "name": "TotalPrice",
         "rawType": "float64",
         "type": "float"
        },
        {
         "name": "SalesDate",
         "rawType": "object",
         "type": "string"
        },
        {
         "name": "TransactionNumber",
         "rawType": "object",
         "type": "string"
        }
       ],
       "conversionMethod": "pd.DataFrame",
       "ref": "c7c395b0-4da5-44e8-b215-5623d3b72dc5",
       "rows": [
        [
         "0",
         "1",
         "6",
         "27039",
         "381",
         "7",
         "0.0",
         "0.0",
         "2018-02-05 07:38:25.430",
         "FQL4S94E4ME1EZFTG42G"
        ],
        [
         "1",
         "2",
         "16",
         "25011",
         "61",
         "7",
         "0.0",
         "0.0",
         "2018-02-02 16:03:31.150",
         "12UGLX40DJ1A5DTFBHB8"
        ],
        [
         "2",
         "3",
         "13",
         "94024",
         "23",
         "24",
         "0.0",
         "0.0",
         "2018-05-03 19:31:56.880",
         "5DT8RCPL87KI5EORO7B0"
        ],
        [
         "3",
         "4",
         "8",
         "73966",
         "176",
         "19",
         "0.2",
         "0.0",
         "2018-04-07 14:43:55.420",
         "R3DR9MLD5NR76VO17ULE"
        ],
        [
         "4",
         "5",
         "10",
         "32653",
         "310",
         "9",
         "0.0",
         "0.0",
         "2018-02-12 15:37:03.940",
         "4BGS0Z5OMAZ8NDAFHHP3"
        ]
       ],
       "shape": {
        "columns": 9,
        "rows": 5
       }
      },
      "text/html": [
       "<div>\n",
       "<style scoped>\n",
       "    .dataframe tbody tr th:only-of-type {\n",
       "        vertical-align: middle;\n",
       "    }\n",
       "\n",
       "    .dataframe tbody tr th {\n",
       "        vertical-align: top;\n",
       "    }\n",
       "\n",
       "    .dataframe thead th {\n",
       "        text-align: right;\n",
       "    }\n",
       "</style>\n",
       "<table border=\"1\" class=\"dataframe\">\n",
       "  <thead>\n",
       "    <tr style=\"text-align: right;\">\n",
       "      <th></th>\n",
       "      <th>SalesID</th>\n",
       "      <th>SalesPersonID</th>\n",
       "      <th>CustomerID</th>\n",
       "      <th>ProductID</th>\n",
       "      <th>Quantity</th>\n",
       "      <th>Discount</th>\n",
       "      <th>TotalPrice</th>\n",
       "      <th>SalesDate</th>\n",
       "      <th>TransactionNumber</th>\n",
       "    </tr>\n",
       "  </thead>\n",
       "  <tbody>\n",
       "    <tr>\n",
       "      <th>0</th>\n",
       "      <td>1</td>\n",
       "      <td>6</td>\n",
       "      <td>27039</td>\n",
       "      <td>381</td>\n",
       "      <td>7</td>\n",
       "      <td>0.0</td>\n",
       "      <td>0.0</td>\n",
       "      <td>2018-02-05 07:38:25.430</td>\n",
       "      <td>FQL4S94E4ME1EZFTG42G</td>\n",
       "    </tr>\n",
       "    <tr>\n",
       "      <th>1</th>\n",
       "      <td>2</td>\n",
       "      <td>16</td>\n",
       "      <td>25011</td>\n",
       "      <td>61</td>\n",
       "      <td>7</td>\n",
       "      <td>0.0</td>\n",
       "      <td>0.0</td>\n",
       "      <td>2018-02-02 16:03:31.150</td>\n",
       "      <td>12UGLX40DJ1A5DTFBHB8</td>\n",
       "    </tr>\n",
       "    <tr>\n",
       "      <th>2</th>\n",
       "      <td>3</td>\n",
       "      <td>13</td>\n",
       "      <td>94024</td>\n",
       "      <td>23</td>\n",
       "      <td>24</td>\n",
       "      <td>0.0</td>\n",
       "      <td>0.0</td>\n",
       "      <td>2018-05-03 19:31:56.880</td>\n",
       "      <td>5DT8RCPL87KI5EORO7B0</td>\n",
       "    </tr>\n",
       "    <tr>\n",
       "      <th>3</th>\n",
       "      <td>4</td>\n",
       "      <td>8</td>\n",
       "      <td>73966</td>\n",
       "      <td>176</td>\n",
       "      <td>19</td>\n",
       "      <td>0.2</td>\n",
       "      <td>0.0</td>\n",
       "      <td>2018-04-07 14:43:55.420</td>\n",
       "      <td>R3DR9MLD5NR76VO17ULE</td>\n",
       "    </tr>\n",
       "    <tr>\n",
       "      <th>4</th>\n",
       "      <td>5</td>\n",
       "      <td>10</td>\n",
       "      <td>32653</td>\n",
       "      <td>310</td>\n",
       "      <td>9</td>\n",
       "      <td>0.0</td>\n",
       "      <td>0.0</td>\n",
       "      <td>2018-02-12 15:37:03.940</td>\n",
       "      <td>4BGS0Z5OMAZ8NDAFHHP3</td>\n",
       "    </tr>\n",
       "  </tbody>\n",
       "</table>\n",
       "</div>"
      ],
      "text/plain": [
       "   SalesID  SalesPersonID  CustomerID  ProductID  Quantity  Discount  \\\n",
       "0        1              6       27039        381         7       0.0   \n",
       "1        2             16       25011         61         7       0.0   \n",
       "2        3             13       94024         23        24       0.0   \n",
       "3        4              8       73966        176        19       0.2   \n",
       "4        5             10       32653        310         9       0.0   \n",
       "\n",
       "   TotalPrice                SalesDate     TransactionNumber  \n",
       "0         0.0  2018-02-05 07:38:25.430  FQL4S94E4ME1EZFTG42G  \n",
       "1         0.0  2018-02-02 16:03:31.150  12UGLX40DJ1A5DTFBHB8  \n",
       "2         0.0  2018-05-03 19:31:56.880  5DT8RCPL87KI5EORO7B0  \n",
       "3         0.0  2018-04-07 14:43:55.420  R3DR9MLD5NR76VO17ULE  \n",
       "4         0.0  2018-02-12 15:37:03.940  4BGS0Z5OMAZ8NDAFHHP3  "
      ]
     },
     "execution_count": 12,
     "metadata": {},
     "output_type": "execute_result"
    }
   ],
   "source": [
    "sales.head()"
   ]
  },
  {
   "cell_type": "code",
   "execution_count": 13,
   "metadata": {},
   "outputs": [
    {
     "name": "stdout",
     "output_type": "stream",
     "text": [
      "CATEGORIES\n",
      "<class 'pandas.core.frame.DataFrame'>\n",
      "RangeIndex: 11 entries, 0 to 10\n",
      "Data columns (total 2 columns):\n",
      " #   Column        Non-Null Count  Dtype \n",
      "---  ------        --------------  ----- \n",
      " 0   CategoryID    11 non-null     int64 \n",
      " 1   CategoryName  11 non-null     object\n",
      "dtypes: int64(1), object(1)\n",
      "memory usage: 308.0+ bytes\n",
      "Data Info: \n",
      "None \n",
      "\n",
      "CITIES\n",
      "<class 'pandas.core.frame.DataFrame'>\n",
      "RangeIndex: 96 entries, 0 to 95\n",
      "Data columns (total 4 columns):\n",
      " #   Column     Non-Null Count  Dtype \n",
      "---  ------     --------------  ----- \n",
      " 0   CityID     96 non-null     int64 \n",
      " 1   CityName   96 non-null     object\n",
      " 2   Zipcode    96 non-null     int64 \n",
      " 3   CountryID  96 non-null     int64 \n",
      "dtypes: int64(3), object(1)\n",
      "memory usage: 3.1+ KB\n",
      "Data Info: \n",
      "None \n",
      "\n",
      "COUNTRIES\n",
      "<class 'pandas.core.frame.DataFrame'>\n",
      "RangeIndex: 206 entries, 0 to 205\n",
      "Data columns (total 3 columns):\n",
      " #   Column       Non-Null Count  Dtype \n",
      "---  ------       --------------  ----- \n",
      " 0   CountryID    206 non-null    int64 \n",
      " 1   CountryName  206 non-null    object\n",
      " 2   CountryCode  205 non-null    object\n",
      "dtypes: int64(1), object(2)\n",
      "memory usage: 5.0+ KB\n",
      "Data Info: \n",
      "None \n",
      "\n",
      "CUSTOMERS\n",
      "<class 'pandas.core.frame.DataFrame'>\n",
      "RangeIndex: 98759 entries, 0 to 98758\n",
      "Data columns (total 6 columns):\n",
      " #   Column         Non-Null Count  Dtype \n",
      "---  ------         --------------  ----- \n",
      " 0   CustomerID     98759 non-null  int64 \n",
      " 1   FirstName      98759 non-null  object\n",
      " 2   MiddleInitial  97782 non-null  object\n",
      " 3   LastName       98759 non-null  object\n",
      " 4   CityID         98759 non-null  int64 \n",
      " 5   Address        98759 non-null  object\n",
      "dtypes: int64(2), object(4)\n",
      "memory usage: 4.5+ MB\n",
      "Data Info: \n",
      "None \n",
      "\n",
      "EMPLOYEES\n",
      "<class 'pandas.core.frame.DataFrame'>\n",
      "RangeIndex: 23 entries, 0 to 22\n",
      "Data columns (total 8 columns):\n",
      " #   Column         Non-Null Count  Dtype \n",
      "---  ------         --------------  ----- \n",
      " 0   EmployeeID     23 non-null     int64 \n",
      " 1   FirstName      23 non-null     object\n",
      " 2   MiddleInitial  23 non-null     object\n",
      " 3   LastName       23 non-null     object\n",
      " 4   BirthDate      23 non-null     object\n",
      " 5   Gender         23 non-null     object\n",
      " 6   CityID         23 non-null     int64 \n",
      " 7   HireDate       23 non-null     object\n",
      "dtypes: int64(2), object(6)\n",
      "memory usage: 1.6+ KB\n",
      "Data Info: \n",
      "None \n",
      "\n",
      "PRODUCTS\n",
      "<class 'pandas.core.frame.DataFrame'>\n",
      "RangeIndex: 452 entries, 0 to 451\n",
      "Data columns (total 9 columns):\n",
      " #   Column        Non-Null Count  Dtype  \n",
      "---  ------        --------------  -----  \n",
      " 0   ProductID     452 non-null    int64  \n",
      " 1   ProductName   452 non-null    object \n",
      " 2   Price         452 non-null    float64\n",
      " 3   CategoryID    452 non-null    int64  \n",
      " 4   Class         452 non-null    object \n",
      " 5   ModifyDate    452 non-null    object \n",
      " 6   Resistant     452 non-null    object \n",
      " 7   IsAllergic    452 non-null    object \n",
      " 8   VitalityDays  452 non-null    float64\n",
      "dtypes: float64(2), int64(2), object(5)\n",
      "memory usage: 31.9+ KB\n",
      "Data Info: \n",
      "None \n",
      "\n",
      "SALES\n",
      "<class 'pandas.core.frame.DataFrame'>\n",
      "RangeIndex: 6758125 entries, 0 to 6758124\n",
      "Data columns (total 9 columns):\n",
      " #   Column             Dtype  \n",
      "---  ------             -----  \n",
      " 0   SalesID            int64  \n",
      " 1   SalesPersonID      int64  \n",
      " 2   CustomerID         int64  \n",
      " 3   ProductID          int64  \n",
      " 4   Quantity           int64  \n",
      " 5   Discount           float64\n",
      " 6   TotalPrice         float64\n",
      " 7   SalesDate          object \n",
      " 8   TransactionNumber  object \n",
      "dtypes: float64(2), int64(5), object(2)\n",
      "memory usage: 464.0+ MB\n",
      "Data Info: \n",
      "None \n",
      "\n"
     ]
    }
   ],
   "source": [
    "# Get the basic information about the dataset\n",
    "\n",
    "for table_name, table in tables.items():\n",
    "    print(f\"{table_name.upper()}\")\n",
    "    print(f\"Data Info: \\n{table.info()} \\n\")\n",
    "\n"
   ]
  },
  {
   "cell_type": "code",
   "execution_count": 30,
   "metadata": {},
   "outputs": [
    {
     "name": "stdout",
     "output_type": "stream",
     "text": [
      "CATEGORIES\n",
      "No missing values present \n",
      "\n",
      "CITIES\n",
      "No missing values present \n",
      "\n",
      "COUNTRIES\n",
      "Data Info: \n",
      "CountryID      0\n",
      "CountryName    0\n",
      "CountryCode    1\n",
      "dtype: int64 \n",
      "\n",
      "CUSTOMERS\n",
      "Data Info: \n",
      "CustomerID         0\n",
      "FirstName          0\n",
      "MiddleInitial    977\n",
      "LastName           0\n",
      "CityID             0\n",
      "Address            0\n",
      "dtype: int64 \n",
      "\n",
      "EMPLOYEES\n",
      "No missing values present \n",
      "\n",
      "PRODUCTS\n",
      "No missing values present \n",
      "\n",
      "SALES\n",
      "Data Info: \n",
      "SalesID                  0\n",
      "SalesPersonID            0\n",
      "CustomerID               0\n",
      "ProductID                0\n",
      "Quantity                 0\n",
      "Discount                 0\n",
      "TotalPrice               0\n",
      "SalesDate            67526\n",
      "TransactionNumber        0\n",
      "dtype: int64 \n",
      "\n"
     ]
    }
   ],
   "source": [
    "# Check for missing values\n",
    "for table_name, table in tables.items():\n",
    "    print(f\"{table_name.upper()}\")\n",
    "    if table.isna().sum().sum() > 0: \n",
    "        print(f\"Data Info: \\n{table.isna().sum()} \\n\")\n",
    "    else:\n",
    "        print(\"No missing values present \\n\")"
   ]
  },
  {
   "cell_type": "code",
   "execution_count": 33,
   "metadata": {},
   "outputs": [
    {
     "name": "stdout",
     "output_type": "stream",
     "text": [
      "CATEGORIES\n",
      "No columns with All-Zero-Values present \n",
      "\n",
      "CITIES\n",
      "No columns with All-Zero-Values present \n",
      "\n",
      "COUNTRIES\n",
      "No columns with All-Zero-Values present \n",
      "\n",
      "CUSTOMERS\n",
      "No columns with All-Zero-Values present \n",
      "\n",
      "EMPLOYEES\n",
      "No columns with All-Zero-Values present \n",
      "\n",
      "PRODUCTS\n",
      "No columns with All-Zero-Values present \n",
      "\n",
      "SALES\n",
      "Data Info: \n",
      "SalesID              False\n",
      "SalesPersonID        False\n",
      "CustomerID           False\n",
      "ProductID            False\n",
      "Quantity             False\n",
      "Discount             False\n",
      "TotalPrice            True\n",
      "SalesDate            False\n",
      "TransactionNumber    False\n",
      "dtype: bool \n",
      "\n"
     ]
    }
   ],
   "source": [
    "# Check if Column has no values\n",
    "for table_name, table in tables.items():\n",
    "    print(f\"{table_name.upper()}\")\n",
    "    if (table == 0).all().sum() > 0:\n",
    "        print(f\"Data Info: \\n{(table == 0).all()} \\n\")\n",
    "    else:\n",
    "        print(\"No columns with All-Zero-Values present \\n\")"
   ]
  },
  {
   "cell_type": "code",
   "execution_count": 23,
   "metadata": {},
   "outputs": [
    {
     "name": "stdout",
     "output_type": "stream",
     "text": [
      "CATEGORIES\n",
      "No duplicate values present \n",
      "\n",
      "CITIES\n",
      "No duplicate values present \n",
      "\n",
      "COUNTRIES\n",
      "No duplicate values present \n",
      "\n",
      "CUSTOMERS\n",
      "No duplicate values present \n",
      "\n",
      "EMPLOYEES\n",
      "No duplicate values present \n",
      "\n",
      "PRODUCTS\n",
      "No duplicate values present \n",
      "\n",
      "SALES\n"
     ]
    },
    {
     "name": "stdout",
     "output_type": "stream",
     "text": [
      "No duplicate values present \n",
      "\n"
     ]
    }
   ],
   "source": [
    "# Checking duplicate rows \n",
    "for table_name, table in tables.items():\n",
    "    print(f\"{table_name.upper()}\")\n",
    "    if table.duplicated().sum().sum() > 0:\n",
    "        print(f\"Data Info: \\n{table[table.duplicated()].sum()} \\n\")\n",
    "    else:\n",
    "        print(\"No duplicate values present \\n\")"
   ]
  },
  {
   "cell_type": "code",
   "execution_count": 15,
   "metadata": {},
   "outputs": [
    {
     "name": "stdout",
     "output_type": "stream",
     "text": [
      "CATEGORIES\n",
      "Data Info: \n",
      "            count  mean    std  min  25%  50%  75%   max\n",
      "CategoryID   11.0   6.0  3.317  1.0  3.5  6.0  8.5  11.0 \n",
      "\n",
      "CITIES\n",
      "Data Info: \n",
      "           count       mean        std    min       25%      50%       75%  \\\n",
      "CityID      96.0     48.500     27.857    1.0     24.75     48.5     72.25   \n",
      "Zipcode     96.0  51245.302  29883.397  157.0  21780.50  51700.0  79867.75   \n",
      "CountryID   96.0     32.000      0.000   32.0     32.00     32.0     32.00   \n",
      "\n",
      "               max  \n",
      "CityID        96.0  \n",
      "Zipcode    97859.0  \n",
      "CountryID     32.0   \n",
      "\n",
      "COUNTRIES\n",
      "Data Info: \n",
      "           count   mean     std  min    25%    50%     75%    max\n",
      "CountryID  206.0  103.5  59.611  1.0  52.25  103.5  154.75  206.0 \n",
      "\n",
      "CUSTOMERS\n",
      "Data Info: \n",
      "              count       mean        std  min      25%      50%      75%  \\\n",
      "CustomerID  98759.0  49380.000  28509.412  1.0  24690.5  49380.0  74069.5   \n",
      "CityID      98759.0     48.558     27.660  1.0     25.0     49.0     72.0   \n",
      "\n",
      "                max  \n",
      "CustomerID  98759.0  \n",
      "CityID         96.0   \n",
      "\n",
      "EMPLOYEES\n",
      "Data Info: \n",
      "            count    mean     std  min   25%   50%   75%   max\n",
      "EmployeeID   23.0  12.000   6.782  1.0   6.5  12.0  17.5  23.0\n",
      "CityID       23.0  43.783  26.382  4.0  20.5  39.0  65.0  92.0 \n",
      "\n",
      "PRODUCTS\n",
      "Data Info: \n",
      "              count     mean      std    min      25%    50%      75%      max\n",
      "ProductID     452.0  226.500  130.625  1.000  113.750  226.5  339.250  452.000\n",
      "Price         452.0   50.801   28.617  0.045   26.504   52.5   75.496   99.876\n",
      "CategoryID    452.0    5.863    3.272  1.000    3.000    6.0    9.000   11.000\n",
      "VitalityDays  452.0   26.031   39.061  0.000    0.000    0.0   52.500  120.000 \n",
      "\n",
      "SALES\n"
     ]
    },
    {
     "name": "stdout",
     "output_type": "stream",
     "text": [
      "Data Info: \n",
      "                   count         mean          std  min        25%        50%  \\\n",
      "SalesID        6758125.0  3379063.000  1950902.788  1.0  1689532.0  3379063.0   \n",
      "SalesPersonID  6758125.0       12.000        6.633  1.0        6.0       12.0   \n",
      "CustomerID     6758125.0    49395.667    28505.043  1.0    24707.0    49414.0   \n",
      "ProductID      6758125.0      226.547      130.474  1.0      114.0      227.0   \n",
      "Quantity       6758125.0       13.004        7.210  1.0        7.0       13.0   \n",
      "Discount       6758125.0        0.030        0.064  0.0        0.0        0.0   \n",
      "TotalPrice     6758125.0        0.000        0.000  0.0        0.0        0.0   \n",
      "\n",
      "                     75%        max  \n",
      "SalesID        5068594.0  6758125.0  \n",
      "SalesPersonID       18.0       23.0  \n",
      "CustomerID       74075.0    98759.0  \n",
      "ProductID          340.0      452.0  \n",
      "Quantity            19.0       25.0  \n",
      "Discount             0.0        0.2  \n",
      "TotalPrice           0.0        0.0   \n",
      "\n"
     ]
    }
   ],
   "source": [
    "# Get the numerical summary statistics of the dataset\n",
    "for table_name, table in tables.items():\n",
    "    print(f\"{table_name.upper()}\")\n",
    "    print(f\"Data Info: \\n{table.describe().round(3).T} \\n\")\n"
   ]
  },
  {
   "cell_type": "code",
   "execution_count": 16,
   "metadata": {},
   "outputs": [
    {
     "name": "stdout",
     "output_type": "stream",
     "text": [
      "CATEGORIES\n",
      "Data Info: \n",
      "             count unique          top freq\n",
      "CategoryName    11     11  Confections    1 \n",
      "\n",
      "CITIES\n",
      "Data Info: \n",
      "         count unique     top freq\n",
      "CityName    96     96  Dayton    1 \n",
      "\n",
      "COUNTRIES\n",
      "Data Info: \n",
      "            count unique      top freq\n",
      "CountryName   206    206  Armenia    1\n",
      "CountryCode   205    205       AN    1 \n",
      "\n",
      "CUSTOMERS\n",
      "Data Info: \n",
      "               count unique             top  freq\n",
      "FirstName      98759    969           Randi   141\n",
      "MiddleInitial  97782     26               J  3826\n",
      "LastName       98759    995          Dorsey   134\n",
      "Address        98759  80134  16 Milton Road    10 \n",
      "\n",
      "EMPLOYEES\n",
      "Data Info: \n",
      "              count unique                      top freq\n",
      "FirstName        23     22                 Chadwick    2\n",
      "MiddleInitial    23     14                        E    3\n",
      "LastName         23     23                   Fuller    1\n",
      "BirthDate        23     23  1981-03-07 00:00:00.000    1\n",
      "Gender           23      2                        M   15\n",
      "HireDate         23     23  2011-06-20 07:15:36.920    1 \n",
      "\n",
      "PRODUCTS\n",
      "Data Info: \n",
      "            count unique                      top freq\n",
      "ProductName   452    452  Napkin White - Starched    1\n",
      "Class         452      3                   Medium  156\n",
      "ModifyDate    452    452  2017-01-06 14:39:42.890    1\n",
      "Resistant     452      3                  Durable  164\n",
      "IsAllergic    452      3                    False  165 \n",
      "\n",
      "SALES\n",
      "Data Info: \n",
      "                     count   unique                      top freq\n",
      "SalesDate          6690599  6670068  2018-02-22 00:55:15.420    3\n",
      "TransactionNumber  6758125  6758125     RRBD7S603UIC73B631OF    1 \n",
      "\n"
     ]
    }
   ],
   "source": [
    "# Get the categorical summary statistics of the dataset\n",
    "for table_name, table in tables.items():\n",
    "    print(f\"{table_name.upper()}\")\n",
    "    print(f\"Data Info: \\n{table.describe(exclude = [np.number]).T} \\n\")\n"
   ]
  }
 ],
 "metadata": {
  "kernelspec": {
   "display_name": "Python 3",
   "language": "python",
   "name": "python3"
  },
  "language_info": {
   "codemirror_mode": {
    "name": "ipython",
    "version": 3
   },
   "file_extension": ".py",
   "mimetype": "text/x-python",
   "name": "python",
   "nbconvert_exporter": "python",
   "pygments_lexer": "ipython3",
   "version": "3.12.1"
  }
 },
 "nbformat": 4,
 "nbformat_minor": 2
}
