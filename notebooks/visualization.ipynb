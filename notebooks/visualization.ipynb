{
 "cells": [
  {
   "cell_type": "code",
   "execution_count": 1,
   "id": "57166741",
   "metadata": {},
   "outputs": [],
   "source": [
    "import pandas as pd\n",
    "import psycopg2 as pg\n",
    "import numpy as np\n",
    "import matplotlib.pyplot as plt"
   ]
  },
  {
   "cell_type": "code",
   "execution_count": 2,
   "id": "3fce25e0",
   "metadata": {},
   "outputs": [],
   "source": [
    "USER = \"postgres\"\n",
    "PASSWORD = \"postgres\"\n",
    "HOST = \"localhost\"\n",
    "PORT = 5432\n",
    "DB = \"sales_data\""
   ]
  },
  {
   "cell_type": "code",
   "execution_count": 3,
   "id": "c3d5533d",
   "metadata": {},
   "outputs": [],
   "source": [
    "engine = pg.connect(f\"dbname={DB} user={USER} host={HOST} port={PORT} password={PASSWORD}\")\n"
   ]
  },
  {
   "cell_type": "code",
   "execution_count": 4,
   "id": "b199fe8b",
   "metadata": {},
   "outputs": [
    {
     "name": "stderr",
     "output_type": "stream",
     "text": [
      "/tmp/ipykernel_78038/227733469.py:1: UserWarning: pandas only supports SQLAlchemy connectable (engine/connection) or database string URI or sqlite3 DBAPI2 connection. Other DBAPI2 objects are not tested. Please consider using SQLAlchemy.\n",
      "  df_cust = pd.read_sql('select * from customers', con=engine)\n"
     ]
    },
    {
     "data": {
      "application/vnd.microsoft.datawrangler.viewer.v0+json": {
       "columns": [
        {
         "name": "index",
         "rawType": "int64",
         "type": "integer"
        },
        {
         "name": "CustomerID",
         "rawType": "int64",
         "type": "integer"
        },
        {
         "name": "FirstName",
         "rawType": "object",
         "type": "string"
        },
        {
         "name": "MiddleInitial",
         "rawType": "object",
         "type": "string"
        },
        {
         "name": "LastName",
         "rawType": "object",
         "type": "string"
        },
        {
         "name": "CityID",
         "rawType": "int64",
         "type": "integer"
        },
        {
         "name": "Address",
         "rawType": "object",
         "type": "string"
        }
       ],
       "conversionMethod": "pd.DataFrame",
       "ref": "5441dc68-1612-464a-8723-0bdc90711ef9",
       "rows": [
        [
         "0",
         "1",
         "Stefanie",
         "Y",
         "Frye",
         "79",
         "97 Oak Avenue"
        ],
        [
         "1",
         "2",
         "Sandy",
         "T",
         "Kirby",
         "96",
         "52 White First Freeway"
        ],
        [
         "2",
         "3",
         "Lee",
         "T",
         "Zhang",
         "55",
         "921 White Fabien Avenue"
        ],
        [
         "3",
         "4",
         "Regina",
         "S",
         "Avery",
         "40",
         "75 Old Avenue"
        ],
        [
         "4",
         "5",
         "Daniel",
         "S",
         "Mccann",
         "2",
         "283 South Green Hague Avenue"
        ]
       ],
       "shape": {
        "columns": 6,
        "rows": 5
       }
      },
      "text/html": [
       "<div>\n",
       "<style scoped>\n",
       "    .dataframe tbody tr th:only-of-type {\n",
       "        vertical-align: middle;\n",
       "    }\n",
       "\n",
       "    .dataframe tbody tr th {\n",
       "        vertical-align: top;\n",
       "    }\n",
       "\n",
       "    .dataframe thead th {\n",
       "        text-align: right;\n",
       "    }\n",
       "</style>\n",
       "<table border=\"1\" class=\"dataframe\">\n",
       "  <thead>\n",
       "    <tr style=\"text-align: right;\">\n",
       "      <th></th>\n",
       "      <th>CustomerID</th>\n",
       "      <th>FirstName</th>\n",
       "      <th>MiddleInitial</th>\n",
       "      <th>LastName</th>\n",
       "      <th>CityID</th>\n",
       "      <th>Address</th>\n",
       "    </tr>\n",
       "  </thead>\n",
       "  <tbody>\n",
       "    <tr>\n",
       "      <th>0</th>\n",
       "      <td>1</td>\n",
       "      <td>Stefanie</td>\n",
       "      <td>Y</td>\n",
       "      <td>Frye</td>\n",
       "      <td>79</td>\n",
       "      <td>97 Oak Avenue</td>\n",
       "    </tr>\n",
       "    <tr>\n",
       "      <th>1</th>\n",
       "      <td>2</td>\n",
       "      <td>Sandy</td>\n",
       "      <td>T</td>\n",
       "      <td>Kirby</td>\n",
       "      <td>96</td>\n",
       "      <td>52 White First Freeway</td>\n",
       "    </tr>\n",
       "    <tr>\n",
       "      <th>2</th>\n",
       "      <td>3</td>\n",
       "      <td>Lee</td>\n",
       "      <td>T</td>\n",
       "      <td>Zhang</td>\n",
       "      <td>55</td>\n",
       "      <td>921 White Fabien Avenue</td>\n",
       "    </tr>\n",
       "    <tr>\n",
       "      <th>3</th>\n",
       "      <td>4</td>\n",
       "      <td>Regina</td>\n",
       "      <td>S</td>\n",
       "      <td>Avery</td>\n",
       "      <td>40</td>\n",
       "      <td>75 Old Avenue</td>\n",
       "    </tr>\n",
       "    <tr>\n",
       "      <th>4</th>\n",
       "      <td>5</td>\n",
       "      <td>Daniel</td>\n",
       "      <td>S</td>\n",
       "      <td>Mccann</td>\n",
       "      <td>2</td>\n",
       "      <td>283 South Green Hague Avenue</td>\n",
       "    </tr>\n",
       "  </tbody>\n",
       "</table>\n",
       "</div>"
      ],
      "text/plain": [
       "   CustomerID FirstName MiddleInitial LastName  CityID  \\\n",
       "0           1  Stefanie             Y     Frye      79   \n",
       "1           2     Sandy             T    Kirby      96   \n",
       "2           3       Lee             T    Zhang      55   \n",
       "3           4    Regina             S    Avery      40   \n",
       "4           5    Daniel             S   Mccann       2   \n",
       "\n",
       "                        Address  \n",
       "0                 97 Oak Avenue  \n",
       "1        52 White First Freeway  \n",
       "2       921 White Fabien Avenue  \n",
       "3                 75 Old Avenue  \n",
       "4  283 South Green Hague Avenue  "
      ]
     },
     "execution_count": 4,
     "metadata": {},
     "output_type": "execute_result"
    }
   ],
   "source": [
    "df_cust = pd.read_sql('select * from customers', con=engine)\n",
    "df_cust.head()"
   ]
  },
  {
   "cell_type": "code",
   "execution_count": 5,
   "id": "bf121fa2",
   "metadata": {},
   "outputs": [
    {
     "name": "stderr",
     "output_type": "stream",
     "text": [
      "/tmp/ipykernel_78038/680188132.py:1: UserWarning: pandas only supports SQLAlchemy connectable (engine/connection) or database string URI or sqlite3 DBAPI2 connection. Other DBAPI2 objects are not tested. Please consider using SQLAlchemy.\n",
      "  df_count = pd.read_sql('select * from countries', con=engine)\n"
     ]
    },
    {
     "data": {
      "application/vnd.microsoft.datawrangler.viewer.v0+json": {
       "columns": [
        {
         "name": "index",
         "rawType": "int64",
         "type": "integer"
        },
        {
         "name": "CountryID",
         "rawType": "int64",
         "type": "integer"
        },
        {
         "name": "CountryName",
         "rawType": "object",
         "type": "string"
        },
        {
         "name": "CountryCode",
         "rawType": "object",
         "type": "string"
        }
       ],
       "conversionMethod": "pd.DataFrame",
       "ref": "01f5b7f0-6b53-4c2e-958b-95d74ac0a5d9",
       "rows": [
        [
         "0",
         "1",
         "Armenia",
         "AN"
        ],
        [
         "1",
         "2",
         "Canada",
         "FO"
        ],
        [
         "2",
         "3",
         "Belize",
         "MK"
        ],
        [
         "3",
         "4",
         "Uganda",
         "LV"
        ],
        [
         "4",
         "5",
         "Thailand",
         "VI"
        ]
       ],
       "shape": {
        "columns": 3,
        "rows": 5
       }
      },
      "text/html": [
       "<div>\n",
       "<style scoped>\n",
       "    .dataframe tbody tr th:only-of-type {\n",
       "        vertical-align: middle;\n",
       "    }\n",
       "\n",
       "    .dataframe tbody tr th {\n",
       "        vertical-align: top;\n",
       "    }\n",
       "\n",
       "    .dataframe thead th {\n",
       "        text-align: right;\n",
       "    }\n",
       "</style>\n",
       "<table border=\"1\" class=\"dataframe\">\n",
       "  <thead>\n",
       "    <tr style=\"text-align: right;\">\n",
       "      <th></th>\n",
       "      <th>CountryID</th>\n",
       "      <th>CountryName</th>\n",
       "      <th>CountryCode</th>\n",
       "    </tr>\n",
       "  </thead>\n",
       "  <tbody>\n",
       "    <tr>\n",
       "      <th>0</th>\n",
       "      <td>1</td>\n",
       "      <td>Armenia</td>\n",
       "      <td>AN</td>\n",
       "    </tr>\n",
       "    <tr>\n",
       "      <th>1</th>\n",
       "      <td>2</td>\n",
       "      <td>Canada</td>\n",
       "      <td>FO</td>\n",
       "    </tr>\n",
       "    <tr>\n",
       "      <th>2</th>\n",
       "      <td>3</td>\n",
       "      <td>Belize</td>\n",
       "      <td>MK</td>\n",
       "    </tr>\n",
       "    <tr>\n",
       "      <th>3</th>\n",
       "      <td>4</td>\n",
       "      <td>Uganda</td>\n",
       "      <td>LV</td>\n",
       "    </tr>\n",
       "    <tr>\n",
       "      <th>4</th>\n",
       "      <td>5</td>\n",
       "      <td>Thailand</td>\n",
       "      <td>VI</td>\n",
       "    </tr>\n",
       "  </tbody>\n",
       "</table>\n",
       "</div>"
      ],
      "text/plain": [
       "   CountryID CountryName CountryCode\n",
       "0          1     Armenia          AN\n",
       "1          2      Canada          FO\n",
       "2          3      Belize          MK\n",
       "3          4      Uganda          LV\n",
       "4          5    Thailand          VI"
      ]
     },
     "execution_count": 5,
     "metadata": {},
     "output_type": "execute_result"
    }
   ],
   "source": [
    "df_count = pd.read_sql('select * from countries', con=engine)\n",
    "df_count.head()"
   ]
  },
  {
   "cell_type": "code",
   "execution_count": 6,
   "id": "4a9414e7",
   "metadata": {},
   "outputs": [
    {
     "name": "stderr",
     "output_type": "stream",
     "text": [
      "/tmp/ipykernel_78038/774300766.py:1: UserWarning: pandas only supports SQLAlchemy connectable (engine/connection) or database string URI or sqlite3 DBAPI2 connection. Other DBAPI2 objects are not tested. Please consider using SQLAlchemy.\n",
      "  df_city = pd.read_sql('select * from cities', con=engine)\n"
     ]
    },
    {
     "data": {
      "application/vnd.microsoft.datawrangler.viewer.v0+json": {
       "columns": [
        {
         "name": "index",
         "rawType": "int64",
         "type": "integer"
        },
        {
         "name": "CityID",
         "rawType": "int64",
         "type": "integer"
        },
        {
         "name": "CityName",
         "rawType": "object",
         "type": "string"
        },
        {
         "name": "Zipcode",
         "rawType": "int64",
         "type": "integer"
        },
        {
         "name": "CountryID",
         "rawType": "int64",
         "type": "integer"
        }
       ],
       "conversionMethod": "pd.DataFrame",
       "ref": "3e65950d-5100-479d-b4e6-ca9572f7402c",
       "rows": [
        [
         "0",
         "1",
         "Dayton",
         "80563",
         "32"
        ],
        [
         "1",
         "2",
         "Buffalo",
         "17420",
         "32"
        ],
        [
         "2",
         "3",
         "Chicago",
         "44751",
         "32"
        ],
        [
         "3",
         "4",
         "Fremont",
         "20641",
         "32"
        ],
        [
         "4",
         "5",
         "Virginia Beach",
         "62389",
         "32"
        ]
       ],
       "shape": {
        "columns": 4,
        "rows": 5
       }
      },
      "text/html": [
       "<div>\n",
       "<style scoped>\n",
       "    .dataframe tbody tr th:only-of-type {\n",
       "        vertical-align: middle;\n",
       "    }\n",
       "\n",
       "    .dataframe tbody tr th {\n",
       "        vertical-align: top;\n",
       "    }\n",
       "\n",
       "    .dataframe thead th {\n",
       "        text-align: right;\n",
       "    }\n",
       "</style>\n",
       "<table border=\"1\" class=\"dataframe\">\n",
       "  <thead>\n",
       "    <tr style=\"text-align: right;\">\n",
       "      <th></th>\n",
       "      <th>CityID</th>\n",
       "      <th>CityName</th>\n",
       "      <th>Zipcode</th>\n",
       "      <th>CountryID</th>\n",
       "    </tr>\n",
       "  </thead>\n",
       "  <tbody>\n",
       "    <tr>\n",
       "      <th>0</th>\n",
       "      <td>1</td>\n",
       "      <td>Dayton</td>\n",
       "      <td>80563</td>\n",
       "      <td>32</td>\n",
       "    </tr>\n",
       "    <tr>\n",
       "      <th>1</th>\n",
       "      <td>2</td>\n",
       "      <td>Buffalo</td>\n",
       "      <td>17420</td>\n",
       "      <td>32</td>\n",
       "    </tr>\n",
       "    <tr>\n",
       "      <th>2</th>\n",
       "      <td>3</td>\n",
       "      <td>Chicago</td>\n",
       "      <td>44751</td>\n",
       "      <td>32</td>\n",
       "    </tr>\n",
       "    <tr>\n",
       "      <th>3</th>\n",
       "      <td>4</td>\n",
       "      <td>Fremont</td>\n",
       "      <td>20641</td>\n",
       "      <td>32</td>\n",
       "    </tr>\n",
       "    <tr>\n",
       "      <th>4</th>\n",
       "      <td>5</td>\n",
       "      <td>Virginia Beach</td>\n",
       "      <td>62389</td>\n",
       "      <td>32</td>\n",
       "    </tr>\n",
       "  </tbody>\n",
       "</table>\n",
       "</div>"
      ],
      "text/plain": [
       "   CityID        CityName  Zipcode  CountryID\n",
       "0       1          Dayton    80563         32\n",
       "1       2         Buffalo    17420         32\n",
       "2       3         Chicago    44751         32\n",
       "3       4         Fremont    20641         32\n",
       "4       5  Virginia Beach    62389         32"
      ]
     },
     "execution_count": 6,
     "metadata": {},
     "output_type": "execute_result"
    }
   ],
   "source": [
    "df_city = pd.read_sql('select * from cities', con=engine)\n",
    "df_city.head()"
   ]
  },
  {
   "cell_type": "code",
   "execution_count": 7,
   "id": "17f52baa",
   "metadata": {},
   "outputs": [
    {
     "data": {
      "application/vnd.microsoft.datawrangler.viewer.v0+json": {
       "columns": [
        {
         "name": "index",
         "rawType": "int64",
         "type": "integer"
        },
        {
         "name": "CustomerID",
         "rawType": "int64",
         "type": "integer"
        },
        {
         "name": "FirstName",
         "rawType": "object",
         "type": "string"
        },
        {
         "name": "MiddleInitial",
         "rawType": "object",
         "type": "string"
        },
        {
         "name": "LastName",
         "rawType": "object",
         "type": "string"
        },
        {
         "name": "CityID",
         "rawType": "int64",
         "type": "integer"
        },
        {
         "name": "Address",
         "rawType": "object",
         "type": "string"
        },
        {
         "name": "CityName",
         "rawType": "object",
         "type": "string"
        },
        {
         "name": "Zipcode",
         "rawType": "int64",
         "type": "integer"
        },
        {
         "name": "CountryID",
         "rawType": "int64",
         "type": "integer"
        }
       ],
       "conversionMethod": "pd.DataFrame",
       "ref": "eab95ec2-8472-4cb5-ad3a-083611119551",
       "rows": [
        [
         "0",
         "1",
         "Stefanie",
         "Y",
         "Frye",
         "79",
         "97 Oak Avenue",
         "Oklahoma",
         "40472",
         "32"
        ],
        [
         "1",
         "2",
         "Sandy",
         "T",
         "Kirby",
         "96",
         "52 White First Freeway",
         "Pittsburgh",
         "14257",
         "32"
        ],
        [
         "2",
         "3",
         "Lee",
         "T",
         "Zhang",
         "55",
         "921 White Fabien Avenue",
         "Houston",
         "95800",
         "32"
        ],
        [
         "3",
         "4",
         "Regina",
         "S",
         "Avery",
         "40",
         "75 Old Avenue",
         "Cleveland",
         "51352",
         "32"
        ],
        [
         "4",
         "5",
         "Daniel",
         "S",
         "Mccann",
         "2",
         "283 South Green Hague Avenue",
         "Buffalo",
         "17420",
         "32"
        ]
       ],
       "shape": {
        "columns": 9,
        "rows": 5
       }
      },
      "text/html": [
       "<div>\n",
       "<style scoped>\n",
       "    .dataframe tbody tr th:only-of-type {\n",
       "        vertical-align: middle;\n",
       "    }\n",
       "\n",
       "    .dataframe tbody tr th {\n",
       "        vertical-align: top;\n",
       "    }\n",
       "\n",
       "    .dataframe thead th {\n",
       "        text-align: right;\n",
       "    }\n",
       "</style>\n",
       "<table border=\"1\" class=\"dataframe\">\n",
       "  <thead>\n",
       "    <tr style=\"text-align: right;\">\n",
       "      <th></th>\n",
       "      <th>CustomerID</th>\n",
       "      <th>FirstName</th>\n",
       "      <th>MiddleInitial</th>\n",
       "      <th>LastName</th>\n",
       "      <th>CityID</th>\n",
       "      <th>Address</th>\n",
       "      <th>CityName</th>\n",
       "      <th>Zipcode</th>\n",
       "      <th>CountryID</th>\n",
       "    </tr>\n",
       "  </thead>\n",
       "  <tbody>\n",
       "    <tr>\n",
       "      <th>0</th>\n",
       "      <td>1</td>\n",
       "      <td>Stefanie</td>\n",
       "      <td>Y</td>\n",
       "      <td>Frye</td>\n",
       "      <td>79</td>\n",
       "      <td>97 Oak Avenue</td>\n",
       "      <td>Oklahoma</td>\n",
       "      <td>40472</td>\n",
       "      <td>32</td>\n",
       "    </tr>\n",
       "    <tr>\n",
       "      <th>1</th>\n",
       "      <td>2</td>\n",
       "      <td>Sandy</td>\n",
       "      <td>T</td>\n",
       "      <td>Kirby</td>\n",
       "      <td>96</td>\n",
       "      <td>52 White First Freeway</td>\n",
       "      <td>Pittsburgh</td>\n",
       "      <td>14257</td>\n",
       "      <td>32</td>\n",
       "    </tr>\n",
       "    <tr>\n",
       "      <th>2</th>\n",
       "      <td>3</td>\n",
       "      <td>Lee</td>\n",
       "      <td>T</td>\n",
       "      <td>Zhang</td>\n",
       "      <td>55</td>\n",
       "      <td>921 White Fabien Avenue</td>\n",
       "      <td>Houston</td>\n",
       "      <td>95800</td>\n",
       "      <td>32</td>\n",
       "    </tr>\n",
       "    <tr>\n",
       "      <th>3</th>\n",
       "      <td>4</td>\n",
       "      <td>Regina</td>\n",
       "      <td>S</td>\n",
       "      <td>Avery</td>\n",
       "      <td>40</td>\n",
       "      <td>75 Old Avenue</td>\n",
       "      <td>Cleveland</td>\n",
       "      <td>51352</td>\n",
       "      <td>32</td>\n",
       "    </tr>\n",
       "    <tr>\n",
       "      <th>4</th>\n",
       "      <td>5</td>\n",
       "      <td>Daniel</td>\n",
       "      <td>S</td>\n",
       "      <td>Mccann</td>\n",
       "      <td>2</td>\n",
       "      <td>283 South Green Hague Avenue</td>\n",
       "      <td>Buffalo</td>\n",
       "      <td>17420</td>\n",
       "      <td>32</td>\n",
       "    </tr>\n",
       "  </tbody>\n",
       "</table>\n",
       "</div>"
      ],
      "text/plain": [
       "   CustomerID FirstName MiddleInitial LastName  CityID  \\\n",
       "0           1  Stefanie             Y     Frye      79   \n",
       "1           2     Sandy             T    Kirby      96   \n",
       "2           3       Lee             T    Zhang      55   \n",
       "3           4    Regina             S    Avery      40   \n",
       "4           5    Daniel             S   Mccann       2   \n",
       "\n",
       "                        Address    CityName  Zipcode  CountryID  \n",
       "0                 97 Oak Avenue    Oklahoma    40472         32  \n",
       "1        52 White First Freeway  Pittsburgh    14257         32  \n",
       "2       921 White Fabien Avenue     Houston    95800         32  \n",
       "3                 75 Old Avenue   Cleveland    51352         32  \n",
       "4  283 South Green Hague Avenue     Buffalo    17420         32  "
      ]
     },
     "execution_count": 7,
     "metadata": {},
     "output_type": "execute_result"
    }
   ],
   "source": [
    "df_cust_city = pd.merge(df_cust, df_city, left_on='CityID', right_on='CityID', how='inner')\n",
    "df_cust_city.head()"
   ]
  },
  {
   "cell_type": "code",
   "execution_count": 8,
   "id": "0e32f897",
   "metadata": {},
   "outputs": [
    {
     "data": {
      "application/vnd.microsoft.datawrangler.viewer.v0+json": {
       "columns": [
        {
         "name": "index",
         "rawType": "int64",
         "type": "integer"
        },
        {
         "name": "CityName",
         "rawType": "object",
         "type": "string"
        },
        {
         "name": "Count",
         "rawType": "int64",
         "type": "integer"
        }
       ],
       "conversionMethod": "pd.DataFrame",
       "ref": "866a3605-9954-4af3-926f-316a6863df8c",
       "rows": [
        [
         "0",
         "Tucson",
         "1104"
        ],
        [
         "1",
         "Columbus",
         "1096"
        ],
        [
         "2",
         "Indianapolis",
         "1090"
        ],
        [
         "3",
         "Fort Wayne",
         "1088"
        ],
        [
         "4",
         "Sacramento",
         "1085"
        ]
       ],
       "shape": {
        "columns": 2,
        "rows": 5
       }
      },
      "text/html": [
       "<div>\n",
       "<style scoped>\n",
       "    .dataframe tbody tr th:only-of-type {\n",
       "        vertical-align: middle;\n",
       "    }\n",
       "\n",
       "    .dataframe tbody tr th {\n",
       "        vertical-align: top;\n",
       "    }\n",
       "\n",
       "    .dataframe thead th {\n",
       "        text-align: right;\n",
       "    }\n",
       "</style>\n",
       "<table border=\"1\" class=\"dataframe\">\n",
       "  <thead>\n",
       "    <tr style=\"text-align: right;\">\n",
       "      <th></th>\n",
       "      <th>CityName</th>\n",
       "      <th>Count</th>\n",
       "    </tr>\n",
       "  </thead>\n",
       "  <tbody>\n",
       "    <tr>\n",
       "      <th>0</th>\n",
       "      <td>Tucson</td>\n",
       "      <td>1104</td>\n",
       "    </tr>\n",
       "    <tr>\n",
       "      <th>1</th>\n",
       "      <td>Columbus</td>\n",
       "      <td>1096</td>\n",
       "    </tr>\n",
       "    <tr>\n",
       "      <th>2</th>\n",
       "      <td>Indianapolis</td>\n",
       "      <td>1090</td>\n",
       "    </tr>\n",
       "    <tr>\n",
       "      <th>3</th>\n",
       "      <td>Fort Wayne</td>\n",
       "      <td>1088</td>\n",
       "    </tr>\n",
       "    <tr>\n",
       "      <th>4</th>\n",
       "      <td>Sacramento</td>\n",
       "      <td>1085</td>\n",
       "    </tr>\n",
       "  </tbody>\n",
       "</table>\n",
       "</div>"
      ],
      "text/plain": [
       "       CityName  Count\n",
       "0        Tucson   1104\n",
       "1      Columbus   1096\n",
       "2  Indianapolis   1090\n",
       "3    Fort Wayne   1088\n",
       "4    Sacramento   1085"
      ]
     },
     "execution_count": 8,
     "metadata": {},
     "output_type": "execute_result"
    }
   ],
   "source": [
    "df_cc = df_cust_city.groupby('CityName')['CityName'].count().sort_values(ascending=False).to_frame()\n",
    "df_cc = df_cc.rename(columns={'CityName': 'Count'})\n",
    "df_cc = df_cc.reset_index()\n",
    "df_cc.head()"
   ]
  },
  {
   "cell_type": "code",
   "execution_count": 20,
   "id": "cd427665",
   "metadata": {},
   "outputs": [
    {
     "data": {
      "text/plain": [
       "<Figure size 2000x1500 with 0 Axes>"
      ]
     },
     "metadata": {},
     "output_type": "display_data"
    },
    {
     "data": {
      "image/png": "[encoded data removed]",
      "text/plain": [
       "<Figure size 640x480 with 1 Axes>"
      ]
     },
     "metadata": {},
     "output_type": "display_data"
    }
   ],
   "source": [
    "# Plot the top 25 cities\n",
    "plt.figure(figsize=(20, 15))\n",
    "\n",
    "df_cc.head(25)\\\n",
    "    .plot(\n",
    "        x='CityName', \n",
    "        y='Count',\n",
    "        kind='barh',\n",
    "        color='lightblue'\n",
    "        )\n",
    "plt.grid(color='lightgrey')\n",
    "plt.title(\"Number of Customers by City\")\n",
    "plt.xlabel(\"CityName\")\n",
    "plt.ylabel(\"Count\")\n",
    "plt.xlim(1040, 1110)\n",
    "plt.show()"
   ]
  },
  {
   "cell_type": "code",
   "execution_count": 10,
   "id": "dbc78fd9",
   "metadata": {},
   "outputs": [
    {
     "name": "stderr",
     "output_type": "stream",
     "text": [
      "/tmp/ipykernel_78038/3348254541.py:1: UserWarning: pandas only supports SQLAlchemy connectable (engine/connection) or database string URI or sqlite3 DBAPI2 connection. Other DBAPI2 objects are not tested. Please consider using SQLAlchemy.\n",
      "  df_prod = pd.read_sql('select * from products', con=engine)\n"
     ]
    },
    {
     "data": {
      "application/vnd.microsoft.datawrangler.viewer.v0+json": {
       "columns": [
        {
         "name": "index",
         "rawType": "int64",
         "type": "integer"
        },
        {
         "name": "ProductID",
         "rawType": "int64",
         "type": "integer"
        },
        {
         "name": "ProductName",
         "rawType": "object",
         "type": "string"
        },
        {
         "name": "Price",
         "rawType": "float64",
         "type": "float"
        },
        {
         "name": "CategoryID",
         "rawType": "int64",
         "type": "integer"
        },
        {
         "name": "Class",
         "rawType": "object",
         "type": "string"
        },
        {
         "name": "ModifyDate",
         "rawType": "datetime64[ns]",
         "type": "datetime"
        },
        {
         "name": "Resistant",
         "rawType": "object",
         "type": "string"
        },
        {
         "name": "IsAllergic",
         "rawType": "object",
         "type": "string"
        },
        {
         "name": "VitalityDays",
         "rawType": "float64",
         "type": "float"
        }
       ],
       "conversionMethod": "pd.DataFrame",
       "ref": "2e85ef73-00e1-4d6d-9588-89a2442345f9",
       "rows": [
        [
         "0",
         "1",
         "Flour - Whole Wheat",
         "74.2988",
         "3",
         "Medium",
         "2018-02-16 08:21:49.190000",
         "Durable",
         "Unknown",
         "0.0"
        ],
        [
         "1",
         "2",
         "Cookie Chocolate Chip With",
         "91.2329",
         "3",
         "Medium",
         "2017-02-12 11:39:10.970000",
         "Unknown",
         "Unknown",
         "0.0"
        ],
        [
         "2",
         "3",
         "Onions - Cippolini",
         "9.1379",
         "9",
         "Medium",
         "2018-03-15 08:11:51.560000",
         "Weak",
         "False",
         "111.0"
        ],
        [
         "3",
         "4",
         "Sauce - Gravy, Au Jus, Mix",
         "54.3055",
         "9",
         "Medium",
         "2017-07-16 00:46:28.880000",
         "Durable",
         "Unknown",
         "0.0"
        ],
        [
         "4",
         "5",
         "Artichokes - Jerusalem",
         "65.4771",
         "2",
         "Low",
         "2017-08-16 14:13:35.430000",
         "Durable",
         "True",
         "27.0"
        ]
       ],
       "shape": {
        "columns": 9,
        "rows": 5
       }
      },
      "text/html": [
       "<div>\n",
       "<style scoped>\n",
       "    .dataframe tbody tr th:only-of-type {\n",
       "        vertical-align: middle;\n",
       "    }\n",
       "\n",
       "    .dataframe tbody tr th {\n",
       "        vertical-align: top;\n",
       "    }\n",
       "\n",
       "    .dataframe thead th {\n",
       "        text-align: right;\n",
       "    }\n",
       "</style>\n",
       "<table border=\"1\" class=\"dataframe\">\n",
       "  <thead>\n",
       "    <tr style=\"text-align: right;\">\n",
       "      <th></th>\n",
       "      <th>ProductID</th>\n",
       "      <th>ProductName</th>\n",
       "      <th>Price</th>\n",
       "      <th>CategoryID</th>\n",
       "      <th>Class</th>\n",
       "      <th>ModifyDate</th>\n",
       "      <th>Resistant</th>\n",
       "      <th>IsAllergic</th>\n",
       "      <th>VitalityDays</th>\n",
       "    </tr>\n",
       "  </thead>\n",
       "  <tbody>\n",
       "    <tr>\n",
       "      <th>0</th>\n",
       "      <td>1</td>\n",
       "      <td>Flour - Whole Wheat</td>\n",
       "      <td>74.2988</td>\n",
       "      <td>3</td>\n",
       "      <td>Medium</td>\n",
       "      <td>2018-02-16 08:21:49.190</td>\n",
       "      <td>Durable</td>\n",
       "      <td>Unknown</td>\n",
       "      <td>0.0</td>\n",
       "    </tr>\n",
       "    <tr>\n",
       "      <th>1</th>\n",
       "      <td>2</td>\n",
       "      <td>Cookie Chocolate Chip With</td>\n",
       "      <td>91.2329</td>\n",
       "      <td>3</td>\n",
       "      <td>Medium</td>\n",
       "      <td>2017-02-12 11:39:10.970</td>\n",
       "      <td>Unknown</td>\n",
       "      <td>Unknown</td>\n",
       "      <td>0.0</td>\n",
       "    </tr>\n",
       "    <tr>\n",
       "      <th>2</th>\n",
       "      <td>3</td>\n",
       "      <td>Onions - Cippolini</td>\n",
       "      <td>9.1379</td>\n",
       "      <td>9</td>\n",
       "      <td>Medium</td>\n",
       "      <td>2018-03-15 08:11:51.560</td>\n",
       "      <td>Weak</td>\n",
       "      <td>False</td>\n",
       "      <td>111.0</td>\n",
       "    </tr>\n",
       "    <tr>\n",
       "      <th>3</th>\n",
       "      <td>4</td>\n",
       "      <td>Sauce - Gravy, Au Jus, Mix</td>\n",
       "      <td>54.3055</td>\n",
       "      <td>9</td>\n",
       "      <td>Medium</td>\n",
       "      <td>2017-07-16 00:46:28.880</td>\n",
       "      <td>Durable</td>\n",
       "      <td>Unknown</td>\n",
       "      <td>0.0</td>\n",
       "    </tr>\n",
       "    <tr>\n",
       "      <th>4</th>\n",
       "      <td>5</td>\n",
       "      <td>Artichokes - Jerusalem</td>\n",
       "      <td>65.4771</td>\n",
       "      <td>2</td>\n",
       "      <td>Low</td>\n",
       "      <td>2017-08-16 14:13:35.430</td>\n",
       "      <td>Durable</td>\n",
       "      <td>True</td>\n",
       "      <td>27.0</td>\n",
       "    </tr>\n",
       "  </tbody>\n",
       "</table>\n",
       "</div>"
      ],
      "text/plain": [
       "   ProductID                 ProductName    Price  CategoryID   Class  \\\n",
       "0          1         Flour - Whole Wheat  74.2988           3  Medium   \n",
       "1          2  Cookie Chocolate Chip With  91.2329           3  Medium   \n",
       "2          3          Onions - Cippolini   9.1379           9  Medium   \n",
       "3          4  Sauce - Gravy, Au Jus, Mix  54.3055           9  Medium   \n",
       "4          5      Artichokes - Jerusalem  65.4771           2     Low   \n",
       "\n",
       "               ModifyDate Resistant IsAllergic  VitalityDays  \n",
       "0 2018-02-16 08:21:49.190   Durable    Unknown           0.0  \n",
       "1 2017-02-12 11:39:10.970   Unknown    Unknown           0.0  \n",
       "2 2018-03-15 08:11:51.560      Weak      False         111.0  \n",
       "3 2017-07-16 00:46:28.880   Durable    Unknown           0.0  \n",
       "4 2017-08-16 14:13:35.430   Durable       True          27.0  "
      ]
     },
     "execution_count": 10,
     "metadata": {},
     "output_type": "execute_result"
    }
   ],
   "source": [
    "df_prod = pd.read_sql('select * from products', con=engine)\n",
    "df_prod.head()"
   ]
  },
  {
   "cell_type": "code",
   "execution_count": 11,
   "id": "c4af2b8f",
   "metadata": {},
   "outputs": [
    {
     "name": "stderr",
     "output_type": "stream",
     "text": [
      "/tmp/ipykernel_78038/3224567898.py:1: UserWarning: pandas only supports SQLAlchemy connectable (engine/connection) or database string URI or sqlite3 DBAPI2 connection. Other DBAPI2 objects are not tested. Please consider using SQLAlchemy.\n",
      "  df_cat = pd.read_sql('select * from categories', con=engine)\n"
     ]
    },
    {
     "data": {
      "application/vnd.microsoft.datawrangler.viewer.v0+json": {
       "columns": [
        {
         "name": "index",
         "rawType": "int64",
         "type": "integer"
        },
        {
         "name": "CategoryID",
         "rawType": "int64",
         "type": "integer"
        },
        {
         "name": "CategoryName",
         "rawType": "object",
         "type": "string"
        }
       ],
       "conversionMethod": "pd.DataFrame",
       "ref": "d9cb435c-61d7-4be7-9649-24c86a5e862b",
       "rows": [
        [
         "0",
         "1",
         "Confections"
        ],
        [
         "1",
         "2",
         "Shell fish"
        ],
        [
         "2",
         "3",
         "Cereals"
        ],
        [
         "3",
         "4",
         "Dairy"
        ],
        [
         "4",
         "5",
         "Beverages"
        ]
       ],
       "shape": {
        "columns": 2,
        "rows": 5
       }
      },
      "text/html": [
       "<div>\n",
       "<style scoped>\n",
       "    .dataframe tbody tr th:only-of-type {\n",
       "        vertical-align: middle;\n",
       "    }\n",
       "\n",
       "    .dataframe tbody tr th {\n",
       "        vertical-align: top;\n",
       "    }\n",
       "\n",
       "    .dataframe thead th {\n",
       "        text-align: right;\n",
       "    }\n",
       "</style>\n",
       "<table border=\"1\" class=\"dataframe\">\n",
       "  <thead>\n",
       "    <tr style=\"text-align: right;\">\n",
       "      <th></th>\n",
       "      <th>CategoryID</th>\n",
       "      <th>CategoryName</th>\n",
       "    </tr>\n",
       "  </thead>\n",
       "  <tbody>\n",
       "    <tr>\n",
       "      <th>0</th>\n",
       "      <td>1</td>\n",
       "      <td>Confections</td>\n",
       "    </tr>\n",
       "    <tr>\n",
       "      <th>1</th>\n",
       "      <td>2</td>\n",
       "      <td>Shell fish</td>\n",
       "    </tr>\n",
       "    <tr>\n",
       "      <th>2</th>\n",
       "      <td>3</td>\n",
       "      <td>Cereals</td>\n",
       "    </tr>\n",
       "    <tr>\n",
       "      <th>3</th>\n",
       "      <td>4</td>\n",
       "      <td>Dairy</td>\n",
       "    </tr>\n",
       "    <tr>\n",
       "      <th>4</th>\n",
       "      <td>5</td>\n",
       "      <td>Beverages</td>\n",
       "    </tr>\n",
       "  </tbody>\n",
       "</table>\n",
       "</div>"
      ],
      "text/plain": [
       "   CategoryID CategoryName\n",
       "0           1  Confections\n",
       "1           2   Shell fish\n",
       "2           3      Cereals\n",
       "3           4        Dairy\n",
       "4           5    Beverages"
      ]
     },
     "execution_count": 11,
     "metadata": {},
     "output_type": "execute_result"
    }
   ],
   "source": [
    "df_cat = pd.read_sql('select * from categories', con=engine)\n",
    "df_cat.head()"
   ]
  },
  {
   "cell_type": "code",
   "execution_count": 12,
   "id": "9ccef956",
   "metadata": {},
   "outputs": [
    {
     "data": {
      "application/vnd.microsoft.datawrangler.viewer.v0+json": {
       "columns": [
        {
         "name": "index",
         "rawType": "int64",
         "type": "integer"
        },
        {
         "name": "ProductID",
         "rawType": "int64",
         "type": "integer"
        },
        {
         "name": "ProductName",
         "rawType": "object",
         "type": "string"
        },
        {
         "name": "Price",
         "rawType": "float64",
         "type": "float"
        },
        {
         "name": "CategoryID",
         "rawType": "int64",
         "type": "integer"
        },
        {
         "name": "Class",
         "rawType": "object",
         "type": "string"
        },
        {
         "name": "ModifyDate",
         "rawType": "datetime64[ns]",
         "type": "datetime"
        },
        {
         "name": "Resistant",
         "rawType": "object",
         "type": "string"
        },
        {
         "name": "IsAllergic",
         "rawType": "object",
         "type": "string"
        },
        {
         "name": "VitalityDays",
         "rawType": "float64",
         "type": "float"
        },
        {
         "name": "CategoryName",
         "rawType": "object",
         "type": "string"
        }
       ],
       "conversionMethod": "pd.DataFrame",
       "ref": "80b96864-9752-4218-9a00-3ea6aacee5d6",
       "rows": [
        [
         "0",
         "1",
         "Flour - Whole Wheat",
         "74.2988",
         "3",
         "Medium",
         "2018-02-16 08:21:49.190000",
         "Durable",
         "Unknown",
         "0.0",
         "Cereals"
        ],
        [
         "1",
         "2",
         "Cookie Chocolate Chip With",
         "91.2329",
         "3",
         "Medium",
         "2017-02-12 11:39:10.970000",
         "Unknown",
         "Unknown",
         "0.0",
         "Cereals"
        ],
        [
         "2",
         "3",
         "Onions - Cippolini",
         "9.1379",
         "9",
         "Medium",
         "2018-03-15 08:11:51.560000",
         "Weak",
         "False",
         "111.0",
         "Poultry"
        ],
        [
         "3",
         "4",
         "Sauce - Gravy, Au Jus, Mix",
         "54.3055",
         "9",
         "Medium",
         "2017-07-16 00:46:28.880000",
         "Durable",
         "Unknown",
         "0.0",
         "Poultry"
        ],
        [
         "4",
         "5",
         "Artichokes - Jerusalem",
         "65.4771",
         "2",
         "Low",
         "2017-08-16 14:13:35.430000",
         "Durable",
         "True",
         "27.0",
         "Shell fish"
        ]
       ],
       "shape": {
        "columns": 10,
        "rows": 5
       }
      },
      "text/html": [
       "<div>\n",
       "<style scoped>\n",
       "    .dataframe tbody tr th:only-of-type {\n",
       "        vertical-align: middle;\n",
       "    }\n",
       "\n",
       "    .dataframe tbody tr th {\n",
       "        vertical-align: top;\n",
       "    }\n",
       "\n",
       "    .dataframe thead th {\n",
       "        text-align: right;\n",
       "    }\n",
       "</style>\n",
       "<table border=\"1\" class=\"dataframe\">\n",
       "  <thead>\n",
       "    <tr style=\"text-align: right;\">\n",
       "      <th></th>\n",
       "      <th>ProductID</th>\n",
       "      <th>ProductName</th>\n",
       "      <th>Price</th>\n",
       "      <th>CategoryID</th>\n",
       "      <th>Class</th>\n",
       "      <th>ModifyDate</th>\n",
       "      <th>Resistant</th>\n",
       "      <th>IsAllergic</th>\n",
       "      <th>VitalityDays</th>\n",
       "      <th>CategoryName</th>\n",
       "    </tr>\n",
       "  </thead>\n",
       "  <tbody>\n",
       "    <tr>\n",
       "      <th>0</th>\n",
       "      <td>1</td>\n",
       "      <td>Flour - Whole Wheat</td>\n",
       "      <td>74.2988</td>\n",
       "      <td>3</td>\n",
       "      <td>Medium</td>\n",
       "      <td>2018-02-16 08:21:49.190</td>\n",
       "      <td>Durable</td>\n",
       "      <td>Unknown</td>\n",
       "      <td>0.0</td>\n",
       "      <td>Cereals</td>\n",
       "    </tr>\n",
       "    <tr>\n",
       "      <th>1</th>\n",
       "      <td>2</td>\n",
       "      <td>Cookie Chocolate Chip With</td>\n",
       "      <td>91.2329</td>\n",
       "      <td>3</td>\n",
       "      <td>Medium</td>\n",
       "      <td>2017-02-12 11:39:10.970</td>\n",
       "      <td>Unknown</td>\n",
       "      <td>Unknown</td>\n",
       "      <td>0.0</td>\n",
       "      <td>Cereals</td>\n",
       "    </tr>\n",
       "    <tr>\n",
       "      <th>2</th>\n",
       "      <td>3</td>\n",
       "      <td>Onions - Cippolini</td>\n",
       "      <td>9.1379</td>\n",
       "      <td>9</td>\n",
       "      <td>Medium</td>\n",
       "      <td>2018-03-15 08:11:51.560</td>\n",
       "      <td>Weak</td>\n",
       "      <td>False</td>\n",
       "      <td>111.0</td>\n",
       "      <td>Poultry</td>\n",
       "    </tr>\n",
       "    <tr>\n",
       "      <th>3</th>\n",
       "      <td>4</td>\n",
       "      <td>Sauce - Gravy, Au Jus, Mix</td>\n",
       "      <td>54.3055</td>\n",
       "      <td>9</td>\n",
       "      <td>Medium</td>\n",
       "      <td>2017-07-16 00:46:28.880</td>\n",
       "      <td>Durable</td>\n",
       "      <td>Unknown</td>\n",
       "      <td>0.0</td>\n",
       "      <td>Poultry</td>\n",
       "    </tr>\n",
       "    <tr>\n",
       "      <th>4</th>\n",
       "      <td>5</td>\n",
       "      <td>Artichokes - Jerusalem</td>\n",
       "      <td>65.4771</td>\n",
       "      <td>2</td>\n",
       "      <td>Low</td>\n",
       "      <td>2017-08-16 14:13:35.430</td>\n",
       "      <td>Durable</td>\n",
       "      <td>True</td>\n",
       "      <td>27.0</td>\n",
       "      <td>Shell fish</td>\n",
       "    </tr>\n",
       "  </tbody>\n",
       "</table>\n",
       "</div>"
      ],
      "text/plain": [
       "   ProductID                 ProductName    Price  CategoryID   Class  \\\n",
       "0          1         Flour - Whole Wheat  74.2988           3  Medium   \n",
       "1          2  Cookie Chocolate Chip With  91.2329           3  Medium   \n",
       "2          3          Onions - Cippolini   9.1379           9  Medium   \n",
       "3          4  Sauce - Gravy, Au Jus, Mix  54.3055           9  Medium   \n",
       "4          5      Artichokes - Jerusalem  65.4771           2     Low   \n",
       "\n",
       "               ModifyDate Resistant IsAllergic  VitalityDays CategoryName  \n",
       "0 2018-02-16 08:21:49.190   Durable    Unknown           0.0      Cereals  \n",
       "1 2017-02-12 11:39:10.970   Unknown    Unknown           0.0      Cereals  \n",
       "2 2018-03-15 08:11:51.560      Weak      False         111.0      Poultry  \n",
       "3 2017-07-16 00:46:28.880   Durable    Unknown           0.0      Poultry  \n",
       "4 2017-08-16 14:13:35.430   Durable       True          27.0   Shell fish  "
      ]
     },
     "execution_count": 12,
     "metadata": {},
     "output_type": "execute_result"
    }
   ],
   "source": [
    "df_prod_cat = pd.merge(df_prod, df_cat, left_on='CategoryID', right_on='CategoryID', how='inner')\n",
    "df_prod_cat.head()"
   ]
  },
  {
   "cell_type": "code",
   "execution_count": 13,
   "id": "c7daf669",
   "metadata": {},
   "outputs": [
    {
     "data": {
      "application/vnd.microsoft.datawrangler.viewer.v0+json": {
       "columns": [
        {
         "name": "index",
         "rawType": "int64",
         "type": "integer"
        },
        {
         "name": "CategoryName",
         "rawType": "object",
         "type": "string"
        },
        {
         "name": "Count",
         "rawType": "int64",
         "type": "integer"
        }
       ],
       "conversionMethod": "pd.DataFrame",
       "ref": "6d71db06-62f3-49ef-b16f-2f9fb64e2c60",
       "rows": [
        [
         "0",
         "Confections",
         "57"
        ],
        [
         "1",
         "Meat",
         "50"
        ],
        [
         "2",
         "Poultry",
         "47"
        ],
        [
         "3",
         "Cereals",
         "45"
        ],
        [
         "4",
         "Produce",
         "43"
        ]
       ],
       "shape": {
        "columns": 2,
        "rows": 5
       }
      },
      "text/html": [
       "<div>\n",
       "<style scoped>\n",
       "    .dataframe tbody tr th:only-of-type {\n",
       "        vertical-align: middle;\n",
       "    }\n",
       "\n",
       "    .dataframe tbody tr th {\n",
       "        vertical-align: top;\n",
       "    }\n",
       "\n",
       "    .dataframe thead th {\n",
       "        text-align: right;\n",
       "    }\n",
       "</style>\n",
       "<table border=\"1\" class=\"dataframe\">\n",
       "  <thead>\n",
       "    <tr style=\"text-align: right;\">\n",
       "      <th></th>\n",
       "      <th>CategoryName</th>\n",
       "      <th>Count</th>\n",
       "    </tr>\n",
       "  </thead>\n",
       "  <tbody>\n",
       "    <tr>\n",
       "      <th>0</th>\n",
       "      <td>Confections</td>\n",
       "      <td>57</td>\n",
       "    </tr>\n",
       "    <tr>\n",
       "      <th>1</th>\n",
       "      <td>Meat</td>\n",
       "      <td>50</td>\n",
       "    </tr>\n",
       "    <tr>\n",
       "      <th>2</th>\n",
       "      <td>Poultry</td>\n",
       "      <td>47</td>\n",
       "    </tr>\n",
       "    <tr>\n",
       "      <th>3</th>\n",
       "      <td>Cereals</td>\n",
       "      <td>45</td>\n",
       "    </tr>\n",
       "    <tr>\n",
       "      <th>4</th>\n",
       "      <td>Produce</td>\n",
       "      <td>43</td>\n",
       "    </tr>\n",
       "  </tbody>\n",
       "</table>\n",
       "</div>"
      ],
      "text/plain": [
       "  CategoryName  Count\n",
       "0  Confections     57\n",
       "1         Meat     50\n",
       "2      Poultry     47\n",
       "3      Cereals     45\n",
       "4      Produce     43"
      ]
     },
     "execution_count": 13,
     "metadata": {},
     "output_type": "execute_result"
    }
   ],
   "source": [
    "df_pd = df_prod_cat.groupby('CategoryName')['CategoryName'].count().sort_values(ascending=False).to_frame()\n",
    "df_pd = df_pd.rename(columns={'CategoryName': 'Count'})\n",
    "df_pd = df_pd.reset_index()\n",
    "df_pd.head()"
   ]
  },
  {
   "cell_type": "code",
   "execution_count": 14,
   "id": "f466958e",
   "metadata": {},
   "outputs": [
    {
     "data": {
      "text/plain": [
       "<Figure size 2000x2000 with 0 Axes>"
      ]
     },
     "metadata": {},
     "output_type": "display_data"
    },
    {
     "data": {
      "image/png": "[encoded data removed]",
      "text/plain": [
       "<Figure size 640x480 with 1 Axes>"
      ]
     },
     "metadata": {},
     "output_type": "display_data"
    }
   ],
   "source": [
    "plt.figure(figsize=(20, 20))\n",
    "\n",
    "df_pd.head(15)\\\n",
    "    .plot(\n",
    "        x='CategoryName', \n",
    "        y='Count',\n",
    "        kind='bar',\n",
    "        color='lightgrey'\n",
    "        )\n",
    "plt.grid(color='lightgreen')\n",
    "plt.title(\"Number of Products by Category\")\n",
    "plt.xlabel(\"CategoryName\")\n",
    "plt.ylabel(\"Count\")\n",
    "plt.show()"
   ]
  }
 ],
 "metadata": {
  "kernelspec": {
   "display_name": "Python 3",
   "language": "python",
   "name": "python3"
  },
  "language_info": {
   "codemirror_mode": {
    "name": "ipython",
    "version": 3
   },
   "file_extension": ".py",
   "mimetype": "text/x-python",
   "name": "python",
   "nbconvert_exporter": "python",
   "pygments_lexer": "ipython3",
   "version": "3.12.1"
  }
 },
 "nbformat": 4,
 "nbformat_minor": 5
}
