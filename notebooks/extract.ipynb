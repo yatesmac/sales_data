{
 "cells": [
  {
   "cell_type": "code",
   "execution_count": 2,
   "id": "ac9a9ee5",
   "metadata": {},
   "outputs": [
    {
     "name": "stdout",
     "output_type": "stream",
     "text": [
      "Collecting pyspark\n",
      "  Downloading pyspark-3.5.5.tar.gz (317.2 MB)\n",
      "\u001b[2K     \u001b[90m━━━━━━━━━━━━━━━━━━━━━━━━━━━━━━━━━━━━━━\u001b[0m \u001b[32m317.2/317.2 MB\u001b[0m \u001b[31m56.0 MB/s\u001b[0m eta \u001b[36m0:00:00\u001b[0m00:01\u001b[0m00:01\u001b[0m\n",
      "\u001b[?25h  Installing build dependencies ... \u001b[?25ldone\n",
      "\u001b[?25h  Getting requirements to build wheel ... \u001b[?25ldone\n",
      "\u001b[?25h  Preparing metadata (pyproject.toml) ... \u001b[?25ldone\n",
      "\u001b[?25hCollecting py4j==0.10.9.7 (from pyspark)\n",
      "  Downloading py4j-0.10.9.7-py2.py3-none-any.whl.metadata (1.5 kB)\n",
      "Downloading py4j-0.10.9.7-py2.py3-none-any.whl (200 kB)\n",
      "Building wheels for collected packages: pyspark\n",
      "  Building wheel for pyspark (pyproject.toml) ... \u001b[?25ldone\n",
      "\u001b[?25h  Created wheel for pyspark: filename=pyspark-3.5.5-py2.py3-none-any.whl size=317747920 sha256=a72a54ae0a049a3eab7abcb99356f394b0493fb3d86383f7c400749e58711cd9\n",
      "  Stored in directory: /home/codespace/.cache/pip/wheels/8f/cb/c0/cc57eb1bf0f9dc87cdaf2b0dbac49e58a210ff68d21d6fc709\n",
      "Successfully built pyspark\n",
      "Installing collected packages: py4j, pyspark\n",
      "Successfully installed py4j-0.10.9.7 pyspark-3.5.5\n",
      "Requirement already satisfied: py4j in /usr/local/python/3.12.1/lib/python3.12/site-packages (0.10.9.7)\n"
     ]
    }
   ],
   "source": [
    "! pip install pyspark\n",
    "! pip install py4j"
   ]
  },
  {
   "cell_type": "code",
   "execution_count": null,
   "id": "1d3316cd",
   "metadata": {},
   "outputs": [],
   "source": [
    "from pyspark.sql import SparkSession"
   ]
  },
  {
   "cell_type": "code",
   "execution_count": null,
   "id": "66215ac0",
   "metadata": {},
   "outputs": [
    {
     "name": "stderr",
     "output_type": "stream",
     "text": [
      "25/04/13 15:59:23 WARN Utils: Your hostname, codespaces-240bfe resolves to a loopback address: 127.0.0.1; using 10.0.12.140 instead (on interface eth0)\n",
      "25/04/13 15:59:23 WARN Utils: Set SPARK_LOCAL_IP if you need to bind to another address\n",
      "Setting default log level to \"WARN\".\n",
      "To adjust logging level use sc.setLogLevel(newLevel). For SparkR, use setLogLevel(newLevel).\n",
      "25/04/13 15:59:23 WARN NativeCodeLoader: Unable to load native-hadoop library for your platform... using builtin-java classes where applicable\n"
     ]
    }
   ],
   "source": [
    "spark = SparkSession.builder \\\n",
    "    .master(\"local[*]\") \\\n",
    "    .appName(\"CSVtoParquet\") \\\n",
    "    .getOrCreate()"
   ]
  },
  {
   "cell_type": "code",
   "execution_count": 5,
   "id": "75ce7e9d",
   "metadata": {},
   "outputs": [],
   "source": [
    "tables = [\n",
    "    \"categories\",\n",
    "    \"cities\",\n",
    "    \"countries\",\n",
    "    \"customers\",\n",
    "    \"employees\",\n",
    "    \"products\",\n",
    "    \"sales\"\n",
    "    ]"
   ]
  },
  {
   "cell_type": "code",
   "execution_count": 6,
   "id": "dd19bccd",
   "metadata": {},
   "outputs": [],
   "source": [
    "def create_dataframe(file_name):\n",
    "    df = spark.read \\\n",
    "    .option(\"header\", \"true\") \\\n",
    "    .option(\"inferSchema\",True) \\\n",
    "    .csv(file_name)\n",
    "    return df\n"
   ]
  },
  {
   "cell_type": "code",
   "execution_count": null,
   "id": "7abfa9c9",
   "metadata": {},
   "outputs": [
    {
     "name": "stderr",
     "output_type": "stream",
     "text": [
      "                                                                                \r"
     ]
    }
   ],
   "source": [
    "schemas = {}\n",
    "for table in tables:\n",
    "    df = create_dataframe(f\"../data/raw/{table}.csv\")\n",
    "    schemas[table] = df.schema "
   ]
  },
  {
   "cell_type": "code",
   "execution_count": 14,
   "id": "c2d1c3a5",
   "metadata": {},
   "outputs": [
    {
     "data": {
      "text/plain": [
       "{'categories': StructType([StructField('CategoryID', IntegerType(), True), StructField('CategoryName', StringType(), True)]),\n",
       " 'cities': StructType([StructField('CityID', IntegerType(), True), StructField('CityName', StringType(), True), StructField('Zipcode', IntegerType(), True), StructField('CountryID', IntegerType(), True)]),\n",
       " 'countries': StructType([StructField('CountryID', IntegerType(), True), StructField('CountryName', StringType(), True), StructField('CountryCode', StringType(), True)]),\n",
       " 'customers': StructType([StructField('CustomerID', IntegerType(), True), StructField('FirstName', StringType(), True), StructField('MiddleInitial', StringType(), True), StructField('LastName', StringType(), True), StructField('CityID', IntegerType(), True), StructField('Address', StringType(), True)]),\n",
       " 'employees': StructType([StructField('EmployeeID', IntegerType(), True), StructField('FirstName', StringType(), True), StructField('MiddleInitial', StringType(), True), StructField('LastName', StringType(), True), StructField('BirthDate', TimestampType(), True), StructField('Gender', StringType(), True), StructField('CityID', IntegerType(), True), StructField('HireDate', TimestampType(), True)]),\n",
       " 'products': StructType([StructField('ProductID', IntegerType(), True), StructField('ProductName', StringType(), True), StructField('Price', DoubleType(), True), StructField('CategoryID', IntegerType(), True), StructField('Class', StringType(), True), StructField('ModifyDate', TimestampType(), True), StructField('Resistant', StringType(), True), StructField('IsAllergic', StringType(), True), StructField('VitalityDays', DoubleType(), True)]),\n",
       " 'sales': StructType([StructField('SalesID', IntegerType(), True), StructField('SalesPersonID', IntegerType(), True), StructField('CustomerID', IntegerType(), True), StructField('ProductID', IntegerType(), True), StructField('Quantity', IntegerType(), True), StructField('Discount', DoubleType(), True), StructField('TotalPrice', DoubleType(), True), StructField('SalesDate', TimestampType(), True), StructField('TransactionNumber', StringType(), True)])}"
      ]
     },
     "execution_count": 14,
     "metadata": {},
     "output_type": "execute_result"
    }
   ],
   "source": [
    "schemas"
   ]
  },
  {
   "cell_type": "code",
   "execution_count": null,
   "id": "f29fc421",
   "metadata": {},
   "outputs": [],
   "source": [
    "{\n",
    "'categories': \n",
    "StructType([\n",
    "    StructField('CategoryID', IntegerType(), True), \n",
    "    StructField('CategoryName', StringType(), True)\n",
    "    ]),\n",
    "\n",
    "'cities': \n",
    "StructType([\n",
    "    StructField('CityID', IntegerType(), True), \n",
    "    StructField('CityName', StringType(), True), \n",
    "    StructField('Zipcode', IntegerType(), True), \n",
    "    StructField('CountryID', IntegerType(), True)\n",
    "    ]),\n",
    "\n",
    "'countries': \n",
    "StructType([\n",
    "    StructField('CountryID', IntegerType(), True), \n",
    "    StructField('CountryName', StringType(), True), \n",
    "    StructField('CountryCode', StringType(), True)\n",
    "    ]),\n",
    "\n",
    "'customers': \n",
    "StructType([\n",
    "    StructField('CustomerID', IntegerType(), True),\n",
    "    StructField('FirstName', StringType(), True), \n",
    "    StructField('MiddleInitial', StringType(), True), \n",
    "    StructField('LastName', StringType(), True), \n",
    "    StructField('CityID', IntegerType(), True), \n",
    "    StructField('Address', StringType(), True)\n",
    "    ]),\n",
    "\n",
    "'employees': \n",
    "StructType([\n",
    "    StructField('EmployeeID', IntegerType(), True), \n",
    "    StructField('FirstName', StringType(), True), \n",
    "    StructField('MiddleInitial', StringType(), True), \n",
    "    StructField('LastName', StringType(), True), \n",
    "    StructField('BirthDate', TimestampType(), True), \n",
    "    StructField('Gender', StringType(), True), \n",
    "    StructField('CityID', IntegerType(), True), \n",
    "    StructField('HireDate', TimestampType(), True)\n",
    "    ]),\n",
    "\n",
    "'products': \n",
    "StructType([\n",
    "    StructField('ProductID', IntegerType(), True), \n",
    "    StructField('ProductName', StringType(), True), \n",
    "    StructField('Price', DoubleType(), True), \n",
    "    StructField('CategoryID', IntegerType(), True),\n",
    "    StructField('Class', StringType(), True), \n",
    "    StructField('ModifyDate', TimestampType(), True), \n",
    "    StructField('Resistant', StringType(), True), \n",
    "    StructField('IsAllergic', StringType(), True), \n",
    "    StructField('VitalityDays', DoubleType(), True)\n",
    "    ]),\n",
    "\n",
    "'sales': \n",
    "StructType([\n",
    "    StructField('SalesID', IntegerType(), True),\n",
    "    StructField('SalesPersonID', IntegerType(), True), \n",
    "    StructField('CustomerID', IntegerType(), True), \n",
    "    StructField('ProductID', IntegerType(), True), \n",
    "    StructField('Quantity', IntegerType(), True), \n",
    "    StructField('Discount', DoubleType(), True), \n",
    "    StructField('TotalPrice', DoubleType(), True), \n",
    "    StructField('SalesDate', TimestampType(), True),\n",
    "    StructField('TransactionNumber', StringType(), True)\n",
    "      ])}"
   ]
  },
  {
   "cell_type": "code",
   "execution_count": 15,
   "id": "17424294",
   "metadata": {},
   "outputs": [],
   "source": [
    "import os\n",
    "\n",
    "def create_directory(directory):\n",
    "    if not os.path.exists(directory):\n",
    "        os.makedirs(directory)"
   ]
  },
  {
   "cell_type": "code",
   "execution_count": null,
   "id": "f75b60f4",
   "metadata": {},
   "outputs": [
    {
     "name": "stderr",
     "output_type": "stream",
     "text": [
      "                                                                                \r"
     ]
    }
   ],
   "source": [
    "\n",
    "for table in tables:\n",
    "    df = create_dataframe(f\"../data/raw/{table}.csv\")\n",
    "    directory = f\"../data/datalake/{table}\"\n",
    "    create_directory(directory)\n",
    "    df.write.mode(\"overwrite\").parquet(f\"../data/datalake/{table}/{table}.parquet\")"
   ]
  }
 ],
 "metadata": {
  "kernelspec": {
   "display_name": "Python 3",
   "language": "python",
   "name": "python3"
  },
  "language_info": {
   "codemirror_mode": {
    "name": "ipython",
    "version": 3
   },
   "file_extension": ".py",
   "mimetype": "text/x-python",
   "name": "python",
   "nbconvert_exporter": "python",
   "pygments_lexer": "ipython3",
   "version": "3.12.1"
  }
 },
 "nbformat": 4,
 "nbformat_minor": 5
}
